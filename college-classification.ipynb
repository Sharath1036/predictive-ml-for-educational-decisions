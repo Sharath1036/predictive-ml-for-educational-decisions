{
 "cells": [
  {
   "cell_type": "code",
   "execution_count": 1,
   "id": "25bb91ac",
   "metadata": {},
   "outputs": [],
   "source": [
    "df <- read.csv(\"E:/Machine Learning/Datasets/College_Classification.csv\")"
   ]
  },
  {
   "cell_type": "code",
   "execution_count": 2,
   "id": "5955825d",
   "metadata": {},
   "outputs": [
    {
     "data": {
      "text/html": [
       "<style>\n",
       ".list-inline {list-style: none; margin:0; padding: 0}\n",
       ".list-inline>li {display: inline-block}\n",
       ".list-inline>li:not(:last-child)::after {content: \"\\00b7\"; padding: 0 .5ex}\n",
       "</style>\n",
       "<ol class=list-inline><li>387</li><li>17</li></ol>\n"
      ],
      "text/latex": [
       "\\begin{enumerate*}\n",
       "\\item 387\n",
       "\\item 17\n",
       "\\end{enumerate*}\n"
      ],
      "text/markdown": [
       "1. 387\n",
       "2. 17\n",
       "\n",
       "\n"
      ],
      "text/plain": [
       "[1] 387  17"
      ]
     },
     "metadata": {},
     "output_type": "display_data"
    }
   ],
   "source": [
    "dim(df)"
   ]
  },
  {
   "cell_type": "code",
   "execution_count": 3,
   "id": "0ab90022",
   "metadata": {},
   "outputs": [
    {
     "data": {
      "text/plain": [
       "  college_code     division         cutoff         courses      \n",
       " Min.   :1002   Min.   :1.000   Min.   : 2.45   Min.   : 1.000  \n",
       " 1st Qu.:3200   1st Qu.:3.000   1st Qu.:57.92   1st Qu.: 5.000  \n",
       " Median :4649   Median :4.000   Median :75.18   Median : 6.000  \n",
       " Mean   :4543   Mean   :4.253   Mean   :71.75   Mean   : 7.189  \n",
       " 3rd Qu.:6268   3rd Qu.:6.000   3rd Qu.:87.98   3rd Qu.: 9.000  \n",
       " Max.   :6991   Max.   :6.000   Max.   :99.91   Max.   :41.000  \n",
       "                                NA's   :10                      \n",
       "     intake            fees             salary            rating     \n",
       " Min.   :   6.3   Min.   :   3750   Min.   : 120000   Min.   :1.000  \n",
       " 1st Qu.: 240.0   1st Qu.: 240000   1st Qu.: 240000   1st Qu.:3.500  \n",
       " Median : 300.0   Median : 308000   Median : 300000   Median :3.800  \n",
       " Mean   : 382.0   Mean   : 322662   Mean   : 360634   Mean   :3.666  \n",
       " 3rd Qu.: 420.0   3rd Qu.: 372500   3rd Qu.: 390000   3rd Qu.:4.000  \n",
       " Max.   :2274.0   Max.   :1880000   Max.   :1650000   Max.   :5.000  \n",
       " NA's   :13       NA's   :8         NA's   :51        NA's   :28     \n",
       " infrastructure     faculty          crowd          hostel         \n",
       " Min.   :1.000   Min.   :1.000   Min.   :0.500   Length:387        \n",
       " 1st Qu.:3.500   1st Qu.:3.600   1st Qu.:3.500   Class :character  \n",
       " Median :3.900   Median :4.000   Median :3.900   Mode  :character  \n",
       " Mean   :3.804   Mean   :3.822   Mean   :3.756                     \n",
       " 3rd Qu.:4.200   3rd Qu.:4.200   3rd Qu.:4.200                     \n",
       " Max.   :8.000   Max.   :5.000   Max.   :5.000                     \n",
       " NA's   :28      NA's   :31      NA's   :32                        \n",
       "   government        autonomous          rank          new_ban      \n",
       " Min.   :0.00000   Min.   :0.0000   Min.   : 12.0   Min.   :0.0000  \n",
       " 1st Qu.:0.00000   1st Qu.:0.0000   1st Qu.:301.0   1st Qu.:0.0000  \n",
       " Median :0.00000   Median :0.0000   Median :301.0   Median :0.0000  \n",
       " Mean   :0.05943   Mean   :0.1473   Mean   :287.5   Mean   :0.2067  \n",
       " 3rd Qu.:0.00000   3rd Qu.:0.0000   3rd Qu.:301.0   3rd Qu.:0.0000  \n",
       " Max.   :1.00000   Max.   :1.0000   Max.   :301.0   Max.   :1.0000  \n",
       "                                                                    \n",
       "   admission     \n",
       " Min.   :0.0000  \n",
       " 1st Qu.:0.0000  \n",
       " Median :0.0000  \n",
       " Mean   :0.4212  \n",
       " 3rd Qu.:1.0000  \n",
       " Max.   :1.0000  \n",
       "                 "
      ]
     },
     "metadata": {},
     "output_type": "display_data"
    }
   ],
   "source": [
    "summary(df)"
   ]
  },
  {
   "cell_type": "markdown",
   "id": "abc3f6f2",
   "metadata": {},
   "source": [
    "* cutoff, intake, fees, salary, rating, infrastructure, faculty, crowd have missing values\n",
    "* we need to create dummy variables for hostel variable"
   ]
  },
  {
   "cell_type": "markdown",
   "id": "9449036a",
   "metadata": {},
   "source": [
    "# Data Preprocessing"
   ]
  },
  {
   "cell_type": "markdown",
   "id": "89e481bb",
   "metadata": {},
   "source": [
    "## 1. Dummy variable creation"
   ]
  },
  {
   "cell_type": "code",
   "execution_count": 4,
   "id": "e403edf9",
   "metadata": {},
   "outputs": [
    {
     "name": "stderr",
     "output_type": "stream",
     "text": [
      "Thank you for using fastDummies!\n",
      "\n",
      "To acknowledge our work, please cite the package:\n",
      "\n",
      "Kaplan, J. & Schlegel, B. (2023). fastDummies: Fast Creation of Dummy (Binary) Columns and Rows from Categorical Variables. Version 1.7.1. URL: https://github.com/jacobkap/fastDummies, https://jacobkap.github.io/fastDummies/.\n",
      "\n"
     ]
    },
    {
     "data": {
      "text/html": [
       "12"
      ],
      "text/latex": [
       "12"
      ],
      "text/markdown": [
       "12"
      ],
      "text/plain": [
       "[1] 12"
      ]
     },
     "metadata": {},
     "output_type": "display_data"
    },
    {
     "data": {
      "text/html": [
       "19"
      ],
      "text/latex": [
       "19"
      ],
      "text/markdown": [
       "19"
      ],
      "text/plain": [
       "[1] 19"
      ]
     },
     "metadata": {},
     "output_type": "display_data"
    }
   ],
   "source": [
    "library(fastDummies)\n",
    "df <- dummy_cols(df, select_column=\"hostel\")\n",
    "which(colnames(df) == \"hostel\")\n",
    "which(colnames(df) == \"hostel_NONE\")"
   ]
  },
  {
   "cell_type": "code",
   "execution_count": 5,
   "id": "40cebf2d",
   "metadata": {},
   "outputs": [],
   "source": [
    "df <- df[,-19]\n",
    "df <- df[,-12]"
   ]
  },
  {
   "cell_type": "markdown",
   "id": "0b8a64e0",
   "metadata": {},
   "source": [
    "## 2. Missing value imputation"
   ]
  },
  {
   "cell_type": "code",
   "execution_count": 6,
   "id": "aebfebe4",
   "metadata": {},
   "outputs": [],
   "source": [
    "df$cutoff[is.na(df$cutoff)] <- mean(df$cutoff, na.rm=TRUE)\n",
    "df$intake[is.na(df$intake)] <- mean(df$intake, na.rm=TRUE)\n",
    "df$fees[is.na(df$fees)] <- mean(df$fees, na.rm=TRUE)\n",
    "df$salary[is.na(df$salary)] <- mean(df$salary, na.rm=TRUE)\n",
    "df$rating[is.na(df$rating)] <- mean(df$rating, na.rm=TRUE)\n",
    "df$infrastructure[is.na(df$infrastructure)] <- mean(df$infrastructure, na.rm=TRUE)\n",
    "df$faculty[is.na(df$faculty)] <- mean(df$faculty, na.rm=TRUE)\n",
    "df$crowd[is.na(df$crowd)] <- mean(df$crowd, na.rm=TRUE)"
   ]
  },
  {
   "cell_type": "code",
   "execution_count": 7,
   "id": "b9bf5288",
   "metadata": {},
   "outputs": [],
   "source": [
    "# Rounding off the intake variable values upto 1 decimal places\n",
    "df$intake <- round(df$intake, digits=1)"
   ]
  },
  {
   "cell_type": "markdown",
   "id": "1da48f48",
   "metadata": {},
   "source": [
    "# Test-Train Split"
   ]
  },
  {
   "cell_type": "code",
   "execution_count": 8,
   "id": "72a0deb0",
   "metadata": {},
   "outputs": [
    {
     "name": "stderr",
     "output_type": "stream",
     "text": [
      "Loading required package: caTools\n",
      "\n"
     ]
    }
   ],
   "source": [
    "require(\"caTools\")\n",
    "set.seed(0)\n",
    "split <- sample.split(df, SplitRatio = 0.7)\n",
    "train <- subset(df, split == TRUE)\n",
    "test <- subset(df, split == FALSE)"
   ]
  },
  {
   "cell_type": "code",
   "execution_count": 9,
   "id": "8a9f2275",
   "metadata": {},
   "outputs": [
    {
     "data": {
      "text/html": [
       "<style>\n",
       ".list-inline {list-style: none; margin:0; padding: 0}\n",
       ".list-inline>li {display: inline-block}\n",
       ".list-inline>li:not(:last-child)::after {content: \"\\00b7\"; padding: 0 .5ex}\n",
       "</style>\n",
       "<ol class=list-inline><li>257</li><li>18</li></ol>\n"
      ],
      "text/latex": [
       "\\begin{enumerate*}\n",
       "\\item 257\n",
       "\\item 18\n",
       "\\end{enumerate*}\n"
      ],
      "text/markdown": [
       "1. 257\n",
       "2. 18\n",
       "\n",
       "\n"
      ],
      "text/plain": [
       "[1] 257  18"
      ]
     },
     "metadata": {},
     "output_type": "display_data"
    },
    {
     "data": {
      "text/html": [
       "<style>\n",
       ".list-inline {list-style: none; margin:0; padding: 0}\n",
       ".list-inline>li {display: inline-block}\n",
       ".list-inline>li:not(:last-child)::after {content: \"\\00b7\"; padding: 0 .5ex}\n",
       "</style>\n",
       "<ol class=list-inline><li>130</li><li>18</li></ol>\n"
      ],
      "text/latex": [
       "\\begin{enumerate*}\n",
       "\\item 130\n",
       "\\item 18\n",
       "\\end{enumerate*}\n"
      ],
      "text/markdown": [
       "1. 130\n",
       "2. 18\n",
       "\n",
       "\n"
      ],
      "text/plain": [
       "[1] 130  18"
      ]
     },
     "metadata": {},
     "output_type": "display_data"
    }
   ],
   "source": [
    "dim(train)\n",
    "dim(test)"
   ]
  },
  {
   "cell_type": "markdown",
   "id": "97800570",
   "metadata": {},
   "source": [
    "# Logistic Regression"
   ]
  },
  {
   "cell_type": "code",
   "execution_count": 11,
   "id": "2163d354",
   "metadata": {},
   "outputs": [
    {
     "data": {
      "text/plain": [
       "         \n",
       "test.pred  0  1\n",
       "      NO  63 10\n",
       "      YES  4 53"
      ]
     },
     "metadata": {},
     "output_type": "display_data"
    }
   ],
   "source": [
    "train.fit <- glm(admission~. -college_code, data=train, family=binomial)\n",
    "test.probs <- predict(train.fit, test, type='response')\n",
    "test.pred <- rep('NO', 130)\n",
    "test.pred[(test.probs > .5)] = 'YES'\n",
    "table(test.pred, test$admission)"
   ]
  },
  {
   "cell_type": "code",
   "execution_count": 12,
   "id": "5b685c16",
   "metadata": {},
   "outputs": [
    {
     "data": {
      "text/html": [
       "0.892307692307692"
      ],
      "text/latex": [
       "0.892307692307692"
      ],
      "text/markdown": [
       "0.892307692307692"
      ],
      "text/plain": [
       "[1] 0.8923077"
      ]
     },
     "metadata": {},
     "output_type": "display_data"
    }
   ],
   "source": [
    "116/130"
   ]
  },
  {
   "cell_type": "markdown",
   "id": "0ebf2a13",
   "metadata": {},
   "source": [
    "# Linear Discriminant Analysis"
   ]
  },
  {
   "cell_type": "code",
   "execution_count": 13,
   "id": "484caa3c",
   "metadata": {},
   "outputs": [
    {
     "data": {
      "text/html": [
       "<table class=\"dataframe\">\n",
       "<caption>A matrix: 130 × 2 of type dbl</caption>\n",
       "<thead>\n",
       "\t<tr><th></th><th scope=col>0</th><th scope=col>1</th></tr>\n",
       "</thead>\n",
       "<tbody>\n",
       "\t<tr><th scope=row>1</th><td>0.003974112</td><td>9.960259e-01</td></tr>\n",
       "\t<tr><th scope=row>5</th><td>0.110340711</td><td>8.896593e-01</td></tr>\n",
       "\t<tr><th scope=row>7</th><td>0.994953453</td><td>5.046547e-03</td></tr>\n",
       "\t<tr><th scope=row>8</th><td>0.735607620</td><td>2.643924e-01</td></tr>\n",
       "\t<tr><th scope=row>16</th><td>0.998950262</td><td>1.049738e-03</td></tr>\n",
       "\t<tr><th scope=row>18</th><td>0.906970400</td><td>9.302960e-02</td></tr>\n",
       "\t<tr><th scope=row>19</th><td>0.949581266</td><td>5.041873e-02</td></tr>\n",
       "\t<tr><th scope=row>23</th><td>0.995313179</td><td>4.686821e-03</td></tr>\n",
       "\t<tr><th scope=row>25</th><td>0.999970963</td><td>2.903655e-05</td></tr>\n",
       "\t<tr><th scope=row>26</th><td>0.770856567</td><td>2.291434e-01</td></tr>\n",
       "\t<tr><th scope=row>34</th><td>0.016916853</td><td>9.830831e-01</td></tr>\n",
       "\t<tr><th scope=row>36</th><td>0.961209209</td><td>3.879079e-02</td></tr>\n",
       "\t<tr><th scope=row>37</th><td>0.204462486</td><td>7.955375e-01</td></tr>\n",
       "\t<tr><th scope=row>41</th><td>0.587409843</td><td>4.125902e-01</td></tr>\n",
       "\t<tr><th scope=row>43</th><td>0.590110279</td><td>4.098897e-01</td></tr>\n",
       "\t<tr><th scope=row>44</th><td>0.924706714</td><td>7.529329e-02</td></tr>\n",
       "\t<tr><th scope=row>52</th><td>0.948422214</td><td>5.157779e-02</td></tr>\n",
       "\t<tr><th scope=row>54</th><td>0.826581522</td><td>1.734185e-01</td></tr>\n",
       "\t<tr><th scope=row>55</th><td>0.981443538</td><td>1.855646e-02</td></tr>\n",
       "\t<tr><th scope=row>59</th><td>0.926141408</td><td>7.385859e-02</td></tr>\n",
       "\t<tr><th scope=row>61</th><td>0.978988174</td><td>2.101183e-02</td></tr>\n",
       "\t<tr><th scope=row>62</th><td>0.956486979</td><td>4.351302e-02</td></tr>\n",
       "\t<tr><th scope=row>70</th><td>0.003586381</td><td>9.964136e-01</td></tr>\n",
       "\t<tr><th scope=row>72</th><td>0.105832796</td><td>8.941672e-01</td></tr>\n",
       "\t<tr><th scope=row>73</th><td>0.023839210</td><td>9.761608e-01</td></tr>\n",
       "\t<tr><th scope=row>77</th><td>0.220543475</td><td>7.794565e-01</td></tr>\n",
       "\t<tr><th scope=row>79</th><td>0.477920388</td><td>5.220796e-01</td></tr>\n",
       "\t<tr><th scope=row>80</th><td>0.050106181</td><td>9.498938e-01</td></tr>\n",
       "\t<tr><th scope=row>88</th><td>0.071284782</td><td>9.287152e-01</td></tr>\n",
       "\t<tr><th scope=row>90</th><td>0.994841351</td><td>5.158649e-03</td></tr>\n",
       "\t<tr><th scope=row>⋮</th><td>⋮</td><td>⋮</td></tr>\n",
       "\t<tr><th scope=row>304</th><td>0.012339712</td><td>9.876603e-01</td></tr>\n",
       "\t<tr><th scope=row>306</th><td>0.325685901</td><td>6.743141e-01</td></tr>\n",
       "\t<tr><th scope=row>307</th><td>0.004596584</td><td>9.954034e-01</td></tr>\n",
       "\t<tr><th scope=row>311</th><td>0.562126185</td><td>4.378738e-01</td></tr>\n",
       "\t<tr><th scope=row>313</th><td>0.994819536</td><td>5.180464e-03</td></tr>\n",
       "\t<tr><th scope=row>314</th><td>0.354136767</td><td>6.458632e-01</td></tr>\n",
       "\t<tr><th scope=row>322</th><td>0.869867028</td><td>1.301330e-01</td></tr>\n",
       "\t<tr><th scope=row>324</th><td>0.982003021</td><td>1.799698e-02</td></tr>\n",
       "\t<tr><th scope=row>325</th><td>0.955018099</td><td>4.498190e-02</td></tr>\n",
       "\t<tr><th scope=row>329</th><td>0.908388055</td><td>9.161194e-02</td></tr>\n",
       "\t<tr><th scope=row>331</th><td>0.999975406</td><td>2.459416e-05</td></tr>\n",
       "\t<tr><th scope=row>332</th><td>0.985966366</td><td>1.403363e-02</td></tr>\n",
       "\t<tr><th scope=row>340</th><td>0.274712997</td><td>7.252870e-01</td></tr>\n",
       "\t<tr><th scope=row>342</th><td>0.844135009</td><td>1.558650e-01</td></tr>\n",
       "\t<tr><th scope=row>343</th><td>0.820980769</td><td>1.790192e-01</td></tr>\n",
       "\t<tr><th scope=row>347</th><td>0.517701466</td><td>4.822985e-01</td></tr>\n",
       "\t<tr><th scope=row>349</th><td>0.231259216</td><td>7.687408e-01</td></tr>\n",
       "\t<tr><th scope=row>350</th><td>0.214493230</td><td>7.855068e-01</td></tr>\n",
       "\t<tr><th scope=row>358</th><td>0.855767962</td><td>1.442320e-01</td></tr>\n",
       "\t<tr><th scope=row>360</th><td>0.529901751</td><td>4.700982e-01</td></tr>\n",
       "\t<tr><th scope=row>361</th><td>0.197780977</td><td>8.022190e-01</td></tr>\n",
       "\t<tr><th scope=row>365</th><td>0.783572455</td><td>2.164275e-01</td></tr>\n",
       "\t<tr><th scope=row>367</th><td>0.997367571</td><td>2.632429e-03</td></tr>\n",
       "\t<tr><th scope=row>368</th><td>0.599919041</td><td>4.000810e-01</td></tr>\n",
       "\t<tr><th scope=row>376</th><td>0.852256990</td><td>1.477430e-01</td></tr>\n",
       "\t<tr><th scope=row>378</th><td>0.999601436</td><td>3.985639e-04</td></tr>\n",
       "\t<tr><th scope=row>379</th><td>0.999123097</td><td>8.769027e-04</td></tr>\n",
       "\t<tr><th scope=row>383</th><td>0.567398816</td><td>4.326012e-01</td></tr>\n",
       "\t<tr><th scope=row>385</th><td>0.987679803</td><td>1.232020e-02</td></tr>\n",
       "\t<tr><th scope=row>386</th><td>0.995448125</td><td>4.551875e-03</td></tr>\n",
       "</tbody>\n",
       "</table>\n"
      ],
      "text/latex": [
       "A matrix: 130 × 2 of type dbl\n",
       "\\begin{tabular}{r|ll}\n",
       "  & 0 & 1\\\\\n",
       "\\hline\n",
       "\t1 & 0.003974112 & 9.960259e-01\\\\\n",
       "\t5 & 0.110340711 & 8.896593e-01\\\\\n",
       "\t7 & 0.994953453 & 5.046547e-03\\\\\n",
       "\t8 & 0.735607620 & 2.643924e-01\\\\\n",
       "\t16 & 0.998950262 & 1.049738e-03\\\\\n",
       "\t18 & 0.906970400 & 9.302960e-02\\\\\n",
       "\t19 & 0.949581266 & 5.041873e-02\\\\\n",
       "\t23 & 0.995313179 & 4.686821e-03\\\\\n",
       "\t25 & 0.999970963 & 2.903655e-05\\\\\n",
       "\t26 & 0.770856567 & 2.291434e-01\\\\\n",
       "\t34 & 0.016916853 & 9.830831e-01\\\\\n",
       "\t36 & 0.961209209 & 3.879079e-02\\\\\n",
       "\t37 & 0.204462486 & 7.955375e-01\\\\\n",
       "\t41 & 0.587409843 & 4.125902e-01\\\\\n",
       "\t43 & 0.590110279 & 4.098897e-01\\\\\n",
       "\t44 & 0.924706714 & 7.529329e-02\\\\\n",
       "\t52 & 0.948422214 & 5.157779e-02\\\\\n",
       "\t54 & 0.826581522 & 1.734185e-01\\\\\n",
       "\t55 & 0.981443538 & 1.855646e-02\\\\\n",
       "\t59 & 0.926141408 & 7.385859e-02\\\\\n",
       "\t61 & 0.978988174 & 2.101183e-02\\\\\n",
       "\t62 & 0.956486979 & 4.351302e-02\\\\\n",
       "\t70 & 0.003586381 & 9.964136e-01\\\\\n",
       "\t72 & 0.105832796 & 8.941672e-01\\\\\n",
       "\t73 & 0.023839210 & 9.761608e-01\\\\\n",
       "\t77 & 0.220543475 & 7.794565e-01\\\\\n",
       "\t79 & 0.477920388 & 5.220796e-01\\\\\n",
       "\t80 & 0.050106181 & 9.498938e-01\\\\\n",
       "\t88 & 0.071284782 & 9.287152e-01\\\\\n",
       "\t90 & 0.994841351 & 5.158649e-03\\\\\n",
       "\t⋮ & ⋮ & ⋮\\\\\n",
       "\t304 & 0.012339712 & 9.876603e-01\\\\\n",
       "\t306 & 0.325685901 & 6.743141e-01\\\\\n",
       "\t307 & 0.004596584 & 9.954034e-01\\\\\n",
       "\t311 & 0.562126185 & 4.378738e-01\\\\\n",
       "\t313 & 0.994819536 & 5.180464e-03\\\\\n",
       "\t314 & 0.354136767 & 6.458632e-01\\\\\n",
       "\t322 & 0.869867028 & 1.301330e-01\\\\\n",
       "\t324 & 0.982003021 & 1.799698e-02\\\\\n",
       "\t325 & 0.955018099 & 4.498190e-02\\\\\n",
       "\t329 & 0.908388055 & 9.161194e-02\\\\\n",
       "\t331 & 0.999975406 & 2.459416e-05\\\\\n",
       "\t332 & 0.985966366 & 1.403363e-02\\\\\n",
       "\t340 & 0.274712997 & 7.252870e-01\\\\\n",
       "\t342 & 0.844135009 & 1.558650e-01\\\\\n",
       "\t343 & 0.820980769 & 1.790192e-01\\\\\n",
       "\t347 & 0.517701466 & 4.822985e-01\\\\\n",
       "\t349 & 0.231259216 & 7.687408e-01\\\\\n",
       "\t350 & 0.214493230 & 7.855068e-01\\\\\n",
       "\t358 & 0.855767962 & 1.442320e-01\\\\\n",
       "\t360 & 0.529901751 & 4.700982e-01\\\\\n",
       "\t361 & 0.197780977 & 8.022190e-01\\\\\n",
       "\t365 & 0.783572455 & 2.164275e-01\\\\\n",
       "\t367 & 0.997367571 & 2.632429e-03\\\\\n",
       "\t368 & 0.599919041 & 4.000810e-01\\\\\n",
       "\t376 & 0.852256990 & 1.477430e-01\\\\\n",
       "\t378 & 0.999601436 & 3.985639e-04\\\\\n",
       "\t379 & 0.999123097 & 8.769027e-04\\\\\n",
       "\t383 & 0.567398816 & 4.326012e-01\\\\\n",
       "\t385 & 0.987679803 & 1.232020e-02\\\\\n",
       "\t386 & 0.995448125 & 4.551875e-03\\\\\n",
       "\\end{tabular}\n"
      ],
      "text/markdown": [
       "\n",
       "A matrix: 130 × 2 of type dbl\n",
       "\n",
       "| <!--/--> | 0 | 1 |\n",
       "|---|---|---|\n",
       "| 1 | 0.003974112 | 9.960259e-01 |\n",
       "| 5 | 0.110340711 | 8.896593e-01 |\n",
       "| 7 | 0.994953453 | 5.046547e-03 |\n",
       "| 8 | 0.735607620 | 2.643924e-01 |\n",
       "| 16 | 0.998950262 | 1.049738e-03 |\n",
       "| 18 | 0.906970400 | 9.302960e-02 |\n",
       "| 19 | 0.949581266 | 5.041873e-02 |\n",
       "| 23 | 0.995313179 | 4.686821e-03 |\n",
       "| 25 | 0.999970963 | 2.903655e-05 |\n",
       "| 26 | 0.770856567 | 2.291434e-01 |\n",
       "| 34 | 0.016916853 | 9.830831e-01 |\n",
       "| 36 | 0.961209209 | 3.879079e-02 |\n",
       "| 37 | 0.204462486 | 7.955375e-01 |\n",
       "| 41 | 0.587409843 | 4.125902e-01 |\n",
       "| 43 | 0.590110279 | 4.098897e-01 |\n",
       "| 44 | 0.924706714 | 7.529329e-02 |\n",
       "| 52 | 0.948422214 | 5.157779e-02 |\n",
       "| 54 | 0.826581522 | 1.734185e-01 |\n",
       "| 55 | 0.981443538 | 1.855646e-02 |\n",
       "| 59 | 0.926141408 | 7.385859e-02 |\n",
       "| 61 | 0.978988174 | 2.101183e-02 |\n",
       "| 62 | 0.956486979 | 4.351302e-02 |\n",
       "| 70 | 0.003586381 | 9.964136e-01 |\n",
       "| 72 | 0.105832796 | 8.941672e-01 |\n",
       "| 73 | 0.023839210 | 9.761608e-01 |\n",
       "| 77 | 0.220543475 | 7.794565e-01 |\n",
       "| 79 | 0.477920388 | 5.220796e-01 |\n",
       "| 80 | 0.050106181 | 9.498938e-01 |\n",
       "| 88 | 0.071284782 | 9.287152e-01 |\n",
       "| 90 | 0.994841351 | 5.158649e-03 |\n",
       "| ⋮ | ⋮ | ⋮ |\n",
       "| 304 | 0.012339712 | 9.876603e-01 |\n",
       "| 306 | 0.325685901 | 6.743141e-01 |\n",
       "| 307 | 0.004596584 | 9.954034e-01 |\n",
       "| 311 | 0.562126185 | 4.378738e-01 |\n",
       "| 313 | 0.994819536 | 5.180464e-03 |\n",
       "| 314 | 0.354136767 | 6.458632e-01 |\n",
       "| 322 | 0.869867028 | 1.301330e-01 |\n",
       "| 324 | 0.982003021 | 1.799698e-02 |\n",
       "| 325 | 0.955018099 | 4.498190e-02 |\n",
       "| 329 | 0.908388055 | 9.161194e-02 |\n",
       "| 331 | 0.999975406 | 2.459416e-05 |\n",
       "| 332 | 0.985966366 | 1.403363e-02 |\n",
       "| 340 | 0.274712997 | 7.252870e-01 |\n",
       "| 342 | 0.844135009 | 1.558650e-01 |\n",
       "| 343 | 0.820980769 | 1.790192e-01 |\n",
       "| 347 | 0.517701466 | 4.822985e-01 |\n",
       "| 349 | 0.231259216 | 7.687408e-01 |\n",
       "| 350 | 0.214493230 | 7.855068e-01 |\n",
       "| 358 | 0.855767962 | 1.442320e-01 |\n",
       "| 360 | 0.529901751 | 4.700982e-01 |\n",
       "| 361 | 0.197780977 | 8.022190e-01 |\n",
       "| 365 | 0.783572455 | 2.164275e-01 |\n",
       "| 367 | 0.997367571 | 2.632429e-03 |\n",
       "| 368 | 0.599919041 | 4.000810e-01 |\n",
       "| 376 | 0.852256990 | 1.477430e-01 |\n",
       "| 378 | 0.999601436 | 3.985639e-04 |\n",
       "| 379 | 0.999123097 | 8.769027e-04 |\n",
       "| 383 | 0.567398816 | 4.326012e-01 |\n",
       "| 385 | 0.987679803 | 1.232020e-02 |\n",
       "| 386 | 0.995448125 | 4.551875e-03 |\n",
       "\n"
      ],
      "text/plain": [
       "    0           1           \n",
       "1   0.003974112 9.960259e-01\n",
       "5   0.110340711 8.896593e-01\n",
       "7   0.994953453 5.046547e-03\n",
       "8   0.735607620 2.643924e-01\n",
       "16  0.998950262 1.049738e-03\n",
       "18  0.906970400 9.302960e-02\n",
       "19  0.949581266 5.041873e-02\n",
       "23  0.995313179 4.686821e-03\n",
       "25  0.999970963 2.903655e-05\n",
       "26  0.770856567 2.291434e-01\n",
       "34  0.016916853 9.830831e-01\n",
       "36  0.961209209 3.879079e-02\n",
       "37  0.204462486 7.955375e-01\n",
       "41  0.587409843 4.125902e-01\n",
       "43  0.590110279 4.098897e-01\n",
       "44  0.924706714 7.529329e-02\n",
       "52  0.948422214 5.157779e-02\n",
       "54  0.826581522 1.734185e-01\n",
       "55  0.981443538 1.855646e-02\n",
       "59  0.926141408 7.385859e-02\n",
       "61  0.978988174 2.101183e-02\n",
       "62  0.956486979 4.351302e-02\n",
       "70  0.003586381 9.964136e-01\n",
       "72  0.105832796 8.941672e-01\n",
       "73  0.023839210 9.761608e-01\n",
       "77  0.220543475 7.794565e-01\n",
       "79  0.477920388 5.220796e-01\n",
       "80  0.050106181 9.498938e-01\n",
       "88  0.071284782 9.287152e-01\n",
       "90  0.994841351 5.158649e-03\n",
       "⋮   ⋮           ⋮           \n",
       "304 0.012339712 9.876603e-01\n",
       "306 0.325685901 6.743141e-01\n",
       "307 0.004596584 9.954034e-01\n",
       "311 0.562126185 4.378738e-01\n",
       "313 0.994819536 5.180464e-03\n",
       "314 0.354136767 6.458632e-01\n",
       "322 0.869867028 1.301330e-01\n",
       "324 0.982003021 1.799698e-02\n",
       "325 0.955018099 4.498190e-02\n",
       "329 0.908388055 9.161194e-02\n",
       "331 0.999975406 2.459416e-05\n",
       "332 0.985966366 1.403363e-02\n",
       "340 0.274712997 7.252870e-01\n",
       "342 0.844135009 1.558650e-01\n",
       "343 0.820980769 1.790192e-01\n",
       "347 0.517701466 4.822985e-01\n",
       "349 0.231259216 7.687408e-01\n",
       "350 0.214493230 7.855068e-01\n",
       "358 0.855767962 1.442320e-01\n",
       "360 0.529901751 4.700982e-01\n",
       "361 0.197780977 8.022190e-01\n",
       "365 0.783572455 2.164275e-01\n",
       "367 0.997367571 2.632429e-03\n",
       "368 0.599919041 4.000810e-01\n",
       "376 0.852256990 1.477430e-01\n",
       "378 0.999601436 3.985639e-04\n",
       "379 0.999123097 8.769027e-04\n",
       "383 0.567398816 4.326012e-01\n",
       "385 0.987679803 1.232020e-02\n",
       "386 0.995448125 4.551875e-03"
      ]
     },
     "metadata": {},
     "output_type": "display_data"
    },
    {
     "data": {
      "text/plain": [
       "          \n",
       "test.class  0  1\n",
       "         0 65 13\n",
       "         1  2 50"
      ]
     },
     "metadata": {},
     "output_type": "display_data"
    }
   ],
   "source": [
    "library(MASS)\n",
    "trainLDA <- lda(admission~.-college_code, data=train)\n",
    "test.predict <- predict(trainLDA, test)\n",
    "test.predict$posterior\n",
    "test.class <- test.predict$class\n",
    "table(test.class, test$admission)"
   ]
  },
  {
   "cell_type": "code",
   "execution_count": 14,
   "id": "41fe7c1e",
   "metadata": {},
   "outputs": [
    {
     "data": {
      "text/html": [
       "0.884615384615385"
      ],
      "text/latex": [
       "0.884615384615385"
      ],
      "text/markdown": [
       "0.884615384615385"
      ],
      "text/plain": [
       "[1] 0.8846154"
      ]
     },
     "metadata": {},
     "output_type": "display_data"
    }
   ],
   "source": [
    "115/130"
   ]
  },
  {
   "cell_type": "markdown",
   "id": "d3323a1d",
   "metadata": {},
   "source": [
    "# K nearest neighbours"
   ]
  },
  {
   "cell_type": "code",
   "execution_count": 15,
   "id": "808156a1",
   "metadata": {},
   "outputs": [
    {
     "data": {
      "text/html": [
       "16"
      ],
      "text/latex": [
       "16"
      ],
      "text/markdown": [
       "16"
      ],
      "text/plain": [
       "[1] 16"
      ]
     },
     "metadata": {},
     "output_type": "display_data"
    },
    {
     "data": {
      "text/html": [
       "16"
      ],
      "text/latex": [
       "16"
      ],
      "text/markdown": [
       "16"
      ],
      "text/plain": [
       "[1] 16"
      ]
     },
     "metadata": {},
     "output_type": "display_data"
    }
   ],
   "source": [
    "library(class)\n",
    "which(colnames(train) == \"admission\")\n",
    "which(colnames(test) == \"admission\")"
   ]
  },
  {
   "cell_type": "code",
   "execution_count": 16,
   "id": "d5caedf3",
   "metadata": {},
   "outputs": [],
   "source": [
    "trainX <- train[,-16]\n",
    "testX <- test[,-16]\n",
    "trainY <- train$admission\n",
    "testY <- test$admission\n",
    "\n",
    "trainX_s <- scale(trainX)\n",
    "testX_s <- scale(testX)\n",
    "set.seed(0)"
   ]
  },
  {
   "cell_type": "code",
   "execution_count": 17,
   "id": "c4285384",
   "metadata": {},
   "outputs": [
    {
     "data": {
      "text/plain": [
       "        testY\n",
       "knn.pred  0  1\n",
       "       0 62 13\n",
       "       1  5 50"
      ]
     },
     "metadata": {},
     "output_type": "display_data"
    }
   ],
   "source": [
    "# k=3\n",
    "knn.pred <- knn(trainX_s, testX_s, trainY, k=3)\n",
    "table(knn.pred,testY)"
   ]
  },
  {
   "cell_type": "code",
   "execution_count": 18,
   "id": "3af0e115",
   "metadata": {},
   "outputs": [
    {
     "data": {
      "text/html": [
       "0.861538461538462"
      ],
      "text/latex": [
       "0.861538461538462"
      ],
      "text/markdown": [
       "0.861538461538462"
      ],
      "text/plain": [
       "[1] 0.8615385"
      ]
     },
     "metadata": {},
     "output_type": "display_data"
    }
   ],
   "source": [
    "112/130"
   ]
  },
  {
   "cell_type": "code",
   "execution_count": 19,
   "id": "b9bc5756",
   "metadata": {},
   "outputs": [
    {
     "data": {
      "text/plain": [
       "        testY\n",
       "knn.pred  0  1\n",
       "       0 63 13\n",
       "       1  4 50"
      ]
     },
     "metadata": {},
     "output_type": "display_data"
    }
   ],
   "source": [
    "# k=5\n",
    "knn.pred <- knn(trainX_s, testX_s, trainY, k=5)\n",
    "table(knn.pred,testY)"
   ]
  },
  {
   "cell_type": "code",
   "execution_count": 20,
   "id": "5c87a0a8",
   "metadata": {},
   "outputs": [
    {
     "data": {
      "text/html": [
       "0.869230769230769"
      ],
      "text/latex": [
       "0.869230769230769"
      ],
      "text/markdown": [
       "0.869230769230769"
      ],
      "text/plain": [
       "[1] 0.8692308"
      ]
     },
     "metadata": {},
     "output_type": "display_data"
    }
   ],
   "source": [
    "113/130"
   ]
  },
  {
   "cell_type": "code",
   "execution_count": 21,
   "id": "7138c7b7",
   "metadata": {},
   "outputs": [
    {
     "data": {
      "text/plain": [
       "        testY\n",
       "knn.pred  0  1\n",
       "       0 63 12\n",
       "       1  4 51"
      ]
     },
     "metadata": {},
     "output_type": "display_data"
    }
   ],
   "source": [
    "# k=7\n",
    "knn.pred <- knn(trainX_s, testX_s, trainY, k=7)\n",
    "table(knn.pred,testY)"
   ]
  },
  {
   "cell_type": "code",
   "execution_count": 22,
   "id": "d3cc19be",
   "metadata": {},
   "outputs": [
    {
     "data": {
      "text/html": [
       "0.876923076923077"
      ],
      "text/latex": [
       "0.876923076923077"
      ],
      "text/markdown": [
       "0.876923076923077"
      ],
      "text/plain": [
       "[1] 0.8769231"
      ]
     },
     "metadata": {},
     "output_type": "display_data"
    }
   ],
   "source": [
    "114/130"
   ]
  },
  {
   "cell_type": "code",
   "execution_count": 23,
   "id": "ba12f09e",
   "metadata": {},
   "outputs": [
    {
     "data": {
      "text/plain": [
       "        testY\n",
       "knn.pred  0  1\n",
       "       0 63 11\n",
       "       1  4 52"
      ]
     },
     "metadata": {},
     "output_type": "display_data"
    }
   ],
   "source": [
    "# k=10\n",
    "knn.pred <- knn(trainX_s, testX_s, trainY, k=10)\n",
    "table(knn.pred,testY)"
   ]
  },
  {
   "cell_type": "code",
   "execution_count": 24,
   "id": "b90fb1fd",
   "metadata": {},
   "outputs": [
    {
     "data": {
      "text/html": [
       "0.884615384615385"
      ],
      "text/latex": [
       "0.884615384615385"
      ],
      "text/markdown": [
       "0.884615384615385"
      ],
      "text/plain": [
       "[1] 0.8846154"
      ]
     },
     "metadata": {},
     "output_type": "display_data"
    }
   ],
   "source": [
    "115/130"
   ]
  },
  {
   "cell_type": "code",
   "execution_count": 25,
   "id": "308b5229",
   "metadata": {},
   "outputs": [
    {
     "data": {
      "text/plain": [
       "        testY\n",
       "knn.pred  0  1\n",
       "       0 62 13\n",
       "       1  5 50"
      ]
     },
     "metadata": {},
     "output_type": "display_data"
    }
   ],
   "source": [
    "# k=16 (optimum k from thumb rule)\n",
    "knn.pred <- knn(trainX_s, testX_s, trainY, k=16)\n",
    "table(knn.pred,testY)"
   ]
  },
  {
   "cell_type": "code",
   "execution_count": 26,
   "id": "541b4a00",
   "metadata": {},
   "outputs": [
    {
     "data": {
      "text/html": [
       "0.861538461538462"
      ],
      "text/latex": [
       "0.861538461538462"
      ],
      "text/markdown": [
       "0.861538461538462"
      ],
      "text/plain": [
       "[1] 0.8615385"
      ]
     },
     "metadata": {},
     "output_type": "display_data"
    }
   ],
   "source": [
    "112/130"
   ]
  },
  {
   "cell_type": "markdown",
   "id": "d06a0ced",
   "metadata": {},
   "source": [
    "# Decision Tree"
   ]
  },
  {
   "cell_type": "code",
   "execution_count": 27,
   "id": "370f6269",
   "metadata": {},
   "outputs": [
    {
     "data": {
      "image/png": "[encoded data removed]",
      "text/plain": [
       "plot without title"
      ]
     },
     "metadata": {
      "image/png": {
       "height": 420,
       "width": 420
      }
     },
     "output_type": "display_data"
    }
   ],
   "source": [
    "library(rpart)\n",
    "library(rpart.plot)\n",
    "classtree <- rpart(admission~.-college_code, data=train, method=\"class\", control=rpart.control(maxdepth = 6))\n",
    "rpart.plot(classtree, digits=-3)"
   ]
  },
  {
   "cell_type": "code",
   "execution_count": 28,
   "id": "b3590f3b",
   "metadata": {},
   "outputs": [
    {
     "data": {
      "text/html": [
       "<table class=\"dataframe\">\n",
       "<caption>A data.frame: 130 × 19</caption>\n",
       "<thead>\n",
       "\t<tr><th></th><th scope=col>college_code</th><th scope=col>division</th><th scope=col>cutoff</th><th scope=col>courses</th><th scope=col>intake</th><th scope=col>fees</th><th scope=col>salary</th><th scope=col>rating</th><th scope=col>infrastructure</th><th scope=col>faculty</th><th scope=col>crowd</th><th scope=col>government</th><th scope=col>autonomous</th><th scope=col>rank</th><th scope=col>new_ban</th><th scope=col>admission</th><th scope=col>hostel_BOTH</th><th scope=col>hostel_ONE</th><th scope=col>decision</th></tr>\n",
       "\t<tr><th></th><th scope=col>&lt;int&gt;</th><th scope=col>&lt;int&gt;</th><th scope=col>&lt;dbl&gt;</th><th scope=col>&lt;int&gt;</th><th scope=col>&lt;dbl&gt;</th><th scope=col>&lt;dbl&gt;</th><th scope=col>&lt;dbl&gt;</th><th scope=col>&lt;dbl&gt;</th><th scope=col>&lt;dbl&gt;</th><th scope=col>&lt;dbl&gt;</th><th scope=col>&lt;dbl&gt;</th><th scope=col>&lt;int&gt;</th><th scope=col>&lt;int&gt;</th><th scope=col>&lt;int&gt;</th><th scope=col>&lt;int&gt;</th><th scope=col>&lt;int&gt;</th><th scope=col>&lt;int&gt;</th><th scope=col>&lt;int&gt;</th><th scope=col>&lt;fct&gt;</th></tr>\n",
       "</thead>\n",
       "<tbody>\n",
       "\t<tr><th scope=row>1</th><td>1002</td><td>1</td><td>96.44000</td><td> 8</td><td> 300</td><td>240000</td><td>390000.0</td><td>3.400000</td><td>3.200000</td><td>3.500000</td><td>3.700000</td><td>1</td><td>1</td><td>301</td><td>0</td><td>1</td><td>1</td><td>0</td><td>1</td></tr>\n",
       "\t<tr><th scope=row>5</th><td>1105</td><td>1</td><td>88.05000</td><td> 8</td><td> 480</td><td>440000</td><td>330000.0</td><td>3.900000</td><td>4.000000</td><td>3.900000</td><td>4.200000</td><td>0</td><td>1</td><td>250</td><td>0</td><td>1</td><td>0</td><td>0</td><td>1</td></tr>\n",
       "\t<tr><th scope=row>7</th><td>1108</td><td>1</td><td>43.04000</td><td> 5</td><td> 300</td><td>310000</td><td>300000.0</td><td>3.900000</td><td>4.000000</td><td>4.300000</td><td>3.500000</td><td>0</td><td>0</td><td>301</td><td>0</td><td>0</td><td>1</td><td>0</td><td>0</td></tr>\n",
       "\t<tr><th scope=row>8</th><td>1114</td><td>1</td><td>81.55000</td><td> 6</td><td> 300</td><td>320000</td><td>370000.0</td><td>4.000000</td><td>4.400000</td><td>3.900000</td><td>4.200000</td><td>0</td><td>0</td><td>301</td><td>0</td><td>1</td><td>1</td><td>0</td><td>1</td></tr>\n",
       "\t<tr><th scope=row>16</th><td>1124</td><td>1</td><td>49.08000</td><td> 5</td><td> 300</td><td>490000</td><td>230000.0</td><td>3.600000</td><td>4.300000</td><td>3.600000</td><td>3.500000</td><td>0</td><td>0</td><td>301</td><td>1</td><td>0</td><td>1</td><td>0</td><td>0</td></tr>\n",
       "\t<tr><th scope=row>18</th><td>1126</td><td>1</td><td>67.71000</td><td> 5</td><td> 300</td><td>170000</td><td>490000.0</td><td>5.000000</td><td>5.000000</td><td>5.000000</td><td>5.000000</td><td>0</td><td>0</td><td>301</td><td>0</td><td>0</td><td>1</td><td>0</td><td>0</td></tr>\n",
       "\t<tr><th scope=row>19</th><td>1127</td><td>1</td><td>62.39000</td><td> 5</td><td> 150</td><td>330000</td><td>190000.0</td><td>3.600000</td><td>3.000000</td><td>3.000000</td><td>3.500000</td><td>0</td><td>0</td><td>301</td><td>0</td><td>0</td><td>1</td><td>0</td><td>0</td></tr>\n",
       "\t<tr><th scope=row>23</th><td>1180</td><td>1</td><td>49.05000</td><td> 5</td><td> 270</td><td>320000</td><td>360633.9</td><td>2.600000</td><td>3.000000</td><td>2.000000</td><td>3.000000</td><td>0</td><td>0</td><td>301</td><td>0</td><td>0</td><td>0</td><td>0</td><td>0</td></tr>\n",
       "\t<tr><th scope=row>25</th><td>1251</td><td>1</td><td>16.73000</td><td> 6</td><td> 300</td><td>284000</td><td>280000.0</td><td>3.400000</td><td>3.200000</td><td>3.400000</td><td>3.600000</td><td>0</td><td>0</td><td>301</td><td>1</td><td>0</td><td>1</td><td>0</td><td>0</td></tr>\n",
       "\t<tr><th scope=row>26</th><td>1265</td><td>1</td><td>77.08000</td><td> 6</td><td> 300</td><td>230000</td><td>400000.0</td><td>4.200000</td><td>4.300000</td><td>4.400000</td><td>4.600000</td><td>0</td><td>0</td><td>301</td><td>0</td><td>1</td><td>1</td><td>0</td><td>0</td></tr>\n",
       "\t<tr><th scope=row>34</th><td>2032</td><td>2</td><td>95.33000</td><td> 1</td><td>  60</td><td>320000</td><td>360633.9</td><td>3.666295</td><td>3.804457</td><td>3.822472</td><td>3.756056</td><td>0</td><td>1</td><td>301</td><td>0</td><td>1</td><td>1</td><td>0</td><td>1</td></tr>\n",
       "\t<tr><th scope=row>36</th><td>2112</td><td>2</td><td>64.06000</td><td>11</td><td> 300</td><td>240000</td><td>330000.0</td><td>4.000000</td><td>4.200000</td><td>4.200000</td><td>4.300000</td><td>0</td><td>0</td><td>301</td><td>0</td><td>0</td><td>1</td><td>0</td><td>0</td></tr>\n",
       "\t<tr><th scope=row>37</th><td>2113</td><td>2</td><td>82.40000</td><td>13</td><td> 450</td><td>410000</td><td>240000.0</td><td>3.600000</td><td>3.800000</td><td>3.800000</td><td>3.700000</td><td>0</td><td>1</td><td>301</td><td>0</td><td>1</td><td>1</td><td>0</td><td>1</td></tr>\n",
       "\t<tr><th scope=row>41</th><td>2127</td><td>2</td><td>80.37000</td><td> 5</td><td> 420</td><td>350000</td><td>360000.0</td><td>3.900000</td><td>4.300000</td><td>4.300000</td><td>3.800000</td><td>0</td><td>0</td><td>301</td><td>0</td><td>1</td><td>1</td><td>0</td><td>1</td></tr>\n",
       "\t<tr><th scope=row>43</th><td>2129</td><td>2</td><td>79.53000</td><td> 7</td><td> 420</td><td>300000</td><td>400000.0</td><td>3.800000</td><td>3.900000</td><td>4.200000</td><td>4.100000</td><td>0</td><td>0</td><td>301</td><td>0</td><td>1</td><td>1</td><td>0</td><td>1</td></tr>\n",
       "\t<tr><th scope=row>44</th><td>2130</td><td>2</td><td>61.88000</td><td> 5</td><td> 570</td><td>270000</td><td>300000.0</td><td>4.200000</td><td>4.000000</td><td>4.300000</td><td>3.700000</td><td>0</td><td>0</td><td>301</td><td>0</td><td>0</td><td>1</td><td>0</td><td>0</td></tr>\n",
       "\t<tr><th scope=row>52</th><td>2138</td><td>2</td><td>64.49000</td><td> 4</td><td> 270</td><td>250000</td><td>330000.0</td><td>3.900000</td><td>4.500000</td><td>5.000000</td><td>5.000000</td><td>0</td><td>0</td><td>301</td><td>0</td><td>0</td><td>1</td><td>0</td><td>0</td></tr>\n",
       "\t<tr><th scope=row>54</th><td>2145</td><td>2</td><td>71.74876</td><td> 5</td><td> 300</td><td> 57000</td><td>360633.9</td><td>2.000000</td><td>1.000000</td><td>2.500000</td><td>3.000000</td><td>0</td><td>0</td><td>301</td><td>1</td><td>0</td><td>1</td><td>0</td><td>0</td></tr>\n",
       "\t<tr><th scope=row>55</th><td>2146</td><td>2</td><td>62.36000</td><td> 3</td><td> 192</td><td>130000</td><td>570000.0</td><td>4.200000</td><td>4.000000</td><td>4.000000</td><td>5.000000</td><td>0</td><td>0</td><td>301</td><td>1</td><td>0</td><td>1</td><td>0</td><td>0</td></tr>\n",
       "\t<tr><th scope=row>59</th><td>2255</td><td>2</td><td>71.74876</td><td> 3</td><td> 150</td><td>220000</td><td>360633.9</td><td>3.666295</td><td>3.804457</td><td>3.822472</td><td>3.756056</td><td>0</td><td>0</td><td>301</td><td>1</td><td>0</td><td>0</td><td>0</td><td>0</td></tr>\n",
       "\t<tr><th scope=row>61</th><td>2516</td><td>2</td><td>54.12000</td><td> 6</td><td> 360</td><td>200000</td><td>350000.0</td><td>4.000000</td><td>4.000000</td><td>4.000000</td><td>4.000000</td><td>0</td><td>0</td><td>301</td><td>0</td><td>0</td><td>0</td><td>0</td><td>0</td></tr>\n",
       "\t<tr><th scope=row>62</th><td>2522</td><td>2</td><td>47.76000</td><td> 7</td><td> 300</td><td>320000</td><td>840000.0</td><td>3.500000</td><td>3.000000</td><td>3.000000</td><td>3.500000</td><td>0</td><td>0</td><td>301</td><td>0</td><td>0</td><td>0</td><td>0</td><td>0</td></tr>\n",
       "\t<tr><th scope=row>70</th><td>3036</td><td>3</td><td>99.51000</td><td> 8</td><td> 209</td><td>450000</td><td>800000.0</td><td>4.500000</td><td>4.400000</td><td>4.700000</td><td>4.400000</td><td>1</td><td>1</td><td> 12</td><td>0</td><td>1</td><td>1</td><td>0</td><td>0</td></tr>\n",
       "\t<tr><th scope=row>72</th><td>3135</td><td>3</td><td>94.71000</td><td> 5</td><td>1020</td><td>430000</td><td>360633.9</td><td>3.600000</td><td>3.500000</td><td>4.000000</td><td>4.500000</td><td>0</td><td>0</td><td>301</td><td>0</td><td>1</td><td>0</td><td>0</td><td>1</td></tr>\n",
       "\t<tr><th scope=row>73</th><td>3139</td><td>3</td><td>96.84000</td><td>10</td><td>1140</td><td>550000</td><td>350000.0</td><td>4.300000</td><td>4.700000</td><td>4.300000</td><td>4.300000</td><td>0</td><td>1</td><td>301</td><td>0</td><td>1</td><td>0</td><td>0</td><td>0</td></tr>\n",
       "\t<tr><th scope=row>77</th><td>3154</td><td>3</td><td>88.74000</td><td> 8</td><td> 330</td><td>440000</td><td>300000.0</td><td>4.000000</td><td>4.000000</td><td>4.200000</td><td>4.000000</td><td>0</td><td>0</td><td>301</td><td>0</td><td>1</td><td>0</td><td>0</td><td>0</td></tr>\n",
       "\t<tr><th scope=row>79</th><td>3175</td><td>3</td><td>85.25000</td><td>12</td><td> 240</td><td>280000</td><td>360633.9</td><td>3.500000</td><td>3.700000</td><td>3.600000</td><td>3.600000</td><td>0</td><td>0</td><td>301</td><td>0</td><td>0</td><td>1</td><td>0</td><td>1</td></tr>\n",
       "\t<tr><th scope=row>80</th><td>3176</td><td>3</td><td>96.46000</td><td>11</td><td> 360</td><td>520000</td><td>450000.0</td><td>4.100000</td><td>4.500000</td><td>4.000000</td><td>4.200000</td><td>0</td><td>1</td><td>193</td><td>0</td><td>1</td><td>1</td><td>0</td><td>0</td></tr>\n",
       "\t<tr><th scope=row>88</th><td>3189</td><td>3</td><td>94.08000</td><td> 6</td><td> 270</td><td>370000</td><td>700000.0</td><td>3.700000</td><td>3.800000</td><td>3.800000</td><td>3.900000</td><td>0</td><td>0</td><td>301</td><td>0</td><td>1</td><td>1</td><td>0</td><td>1</td></tr>\n",
       "\t<tr><th scope=row>90</th><td>3191</td><td>3</td><td>59.38000</td><td> 5</td><td> 382</td><td>120000</td><td>200000.0</td><td>3.400000</td><td>4.000000</td><td>4.000000</td><td>4.000000</td><td>0</td><td>0</td><td>301</td><td>1</td><td>0</td><td>1</td><td>0</td><td>0</td></tr>\n",
       "\t<tr><th scope=row>⋮</th><td>⋮</td><td>⋮</td><td>⋮</td><td>⋮</td><td>⋮</td><td>⋮</td><td>⋮</td><td>⋮</td><td>⋮</td><td>⋮</td><td>⋮</td><td>⋮</td><td>⋮</td><td>⋮</td><td>⋮</td><td>⋮</td><td>⋮</td><td>⋮</td><td>⋮</td></tr>\n",
       "\t<tr><th scope=row>304</th><td>6284</td><td>6</td><td>91.47000</td><td> 7</td><td>420</td><td>340000.0</td><td>360633.9</td><td>4.000000</td><td>4.500000</td><td>4.500000</td><td>3.000000</td><td>0</td><td>1</td><td>301</td><td>0</td><td>1</td><td>1</td><td>0</td><td>1</td></tr>\n",
       "\t<tr><th scope=row>306</th><td>6288</td><td>6</td><td>83.24000</td><td>10</td><td>300</td><td>300000.0</td><td>360000.0</td><td>3.800000</td><td>3.900000</td><td>4.000000</td><td>3.900000</td><td>0</td><td>0</td><td>301</td><td>0</td><td>1</td><td>1</td><td>0</td><td>1</td></tr>\n",
       "\t<tr><th scope=row>307</th><td>6289</td><td>6</td><td>97.98000</td><td> 7</td><td>300</td><td>570000.0</td><td>610000.0</td><td>3.900000</td><td>3.700000</td><td>4.300000</td><td>4.000000</td><td>0</td><td>1</td><td>155</td><td>0</td><td>1</td><td>1</td><td>0</td><td>1</td></tr>\n",
       "\t<tr><th scope=row>311</th><td>6303</td><td>6</td><td>75.18000</td><td> 5</td><td>240</td><td>240000.0</td><td>436000.0</td><td>4.000000</td><td>4.200000</td><td>4.100000</td><td>4.200000</td><td>0</td><td>0</td><td>301</td><td>0</td><td>1</td><td>1</td><td>0</td><td>0</td></tr>\n",
       "\t<tr><th scope=row>313</th><td>6305</td><td>6</td><td>46.17000</td><td> 5</td><td>210</td><td>192000.0</td><td>360633.9</td><td>3.666295</td><td>3.804457</td><td>3.822472</td><td>3.756056</td><td>0</td><td>0</td><td>301</td><td>1</td><td>0</td><td>0</td><td>0</td><td>0</td></tr>\n",
       "\t<tr><th scope=row>314</th><td>6307</td><td>6</td><td>83.32000</td><td>12</td><td>255</td><td>370000.0</td><td>350000.0</td><td>4.100000</td><td>4.200000</td><td>4.200000</td><td>4.100000</td><td>0</td><td>0</td><td>301</td><td>0</td><td>1</td><td>1</td><td>0</td><td>1</td></tr>\n",
       "\t<tr><th scope=row>322</th><td>6319</td><td>6</td><td>63.05000</td><td> 6</td><td>360</td><td>308000.0</td><td>350000.0</td><td>3.600000</td><td>3.900000</td><td>4.000000</td><td>3.800000</td><td>0</td><td>0</td><td>301</td><td>0</td><td>0</td><td>1</td><td>0</td><td>0</td></tr>\n",
       "\t<tr><th scope=row>324</th><td>6321</td><td>6</td><td>45.67000</td><td> 6</td><td>300</td><td>240000.0</td><td>360000.0</td><td>3.200000</td><td>3.700000</td><td>3.700000</td><td>2.700000</td><td>0</td><td>0</td><td>301</td><td>0</td><td>0</td><td>1</td><td>0</td><td>0</td></tr>\n",
       "\t<tr><th scope=row>325</th><td>6322</td><td>6</td><td>57.44000</td><td> 3</td><td> 90</td><td>270000.0</td><td>420000.0</td><td>2.700000</td><td>3.600000</td><td>2.400000</td><td>2.700000</td><td>0</td><td>0</td><td>301</td><td>0</td><td>0</td><td>0</td><td>0</td><td>0</td></tr>\n",
       "\t<tr><th scope=row>329</th><td>6326</td><td>6</td><td>54.12000</td><td> 4</td><td>240</td><td>280000.0</td><td>320000.0</td><td>4.000000</td><td>4.000000</td><td>4.800000</td><td>3.800000</td><td>0</td><td>0</td><td>301</td><td>0</td><td>0</td><td>1</td><td>0</td><td>0</td></tr>\n",
       "\t<tr><th scope=row>331</th><td>6444</td><td>6</td><td> 2.45000</td><td> 5</td><td>180</td><td>141000.0</td><td>360633.9</td><td>3.200000</td><td>3.500000</td><td>4.000000</td><td>2.500000</td><td>0</td><td>0</td><td>301</td><td>1</td><td>0</td><td>1</td><td>0</td><td>0</td></tr>\n",
       "\t<tr><th scope=row>332</th><td>6466</td><td>6</td><td>50.81000</td><td> 4</td><td>180</td><td>320000.0</td><td>360000.0</td><td>4.800000</td><td>5.000000</td><td>5.000000</td><td>4.000000</td><td>0</td><td>0</td><td>301</td><td>1</td><td>0</td><td>0</td><td>0</td><td>0</td></tr>\n",
       "\t<tr><th scope=row>340</th><td>6625</td><td>6</td><td>79.47200</td><td> 3</td><td> 91</td><td>280000.0</td><td>300000.0</td><td>2.100000</td><td>2.000000</td><td>2.300000</td><td>2.400000</td><td>0</td><td>0</td><td>301</td><td>0</td><td>1</td><td>1</td><td>0</td><td>1</td></tr>\n",
       "\t<tr><th scope=row>342</th><td>6629</td><td>6</td><td>71.74876</td><td> 4</td><td>382</td><td>270000.0</td><td>360633.9</td><td>3.666295</td><td>3.804457</td><td>3.822472</td><td>3.756056</td><td>0</td><td>0</td><td>301</td><td>1</td><td>0</td><td>0</td><td>0</td><td>0</td></tr>\n",
       "\t<tr><th scope=row>343</th><td>6632</td><td>6</td><td>67.71400</td><td> 6</td><td>360</td><td>300000.0</td><td>220000.0</td><td>3.600000</td><td>3.900000</td><td>3.900000</td><td>3.500000</td><td>0</td><td>0</td><td>301</td><td>0</td><td>0</td><td>1</td><td>0</td><td>0</td></tr>\n",
       "\t<tr><th scope=row>347</th><td>6643</td><td>6</td><td>81.98400</td><td> 5</td><td>360</td><td>310000.0</td><td>200000.0</td><td>4.200000</td><td>4.500000</td><td>4.300000</td><td>4.500000</td><td>0</td><td>0</td><td>301</td><td>0</td><td>1</td><td>1</td><td>0</td><td>1</td></tr>\n",
       "\t<tr><th scope=row>349</th><td>6649</td><td>6</td><td>85.68000</td><td> 7</td><td>400</td><td>310000.0</td><td>350000.0</td><td>4.100000</td><td>4.200000</td><td>4.400000</td><td>4.200000</td><td>0</td><td>0</td><td>301</td><td>0</td><td>1</td><td>1</td><td>0</td><td>1</td></tr>\n",
       "\t<tr><th scope=row>350</th><td>6732</td><td>6</td><td>87.43000</td><td> 6</td><td>420</td><td>330000.0</td><td>400000.0</td><td>4.200000</td><td>4.700000</td><td>4.700000</td><td>4.300000</td><td>0</td><td>0</td><td>301</td><td>0</td><td>1</td><td>1</td><td>0</td><td>1</td></tr>\n",
       "\t<tr><th scope=row>358</th><td>6766</td><td>6</td><td>63.08000</td><td> 5</td><td>300</td><td>260000.0</td><td>350000.0</td><td>4.700000</td><td>5.000000</td><td>5.000000</td><td>4.500000</td><td>0</td><td>0</td><td>301</td><td>0</td><td>0</td><td>0</td><td>0</td><td>0</td></tr>\n",
       "\t<tr><th scope=row>360</th><td>6768</td><td>6</td><td>77.41000</td><td> 4</td><td>255</td><td>190000.0</td><td>180000.0</td><td>3.800000</td><td>3.800000</td><td>3.800000</td><td>3.900000</td><td>0</td><td>0</td><td>301</td><td>0</td><td>1</td><td>0</td><td>0</td><td>0</td></tr>\n",
       "\t<tr><th scope=row>361</th><td>6769</td><td>6</td><td>84.68000</td><td> 5</td><td>480</td><td>322661.9</td><td>400000.0</td><td>3.800000</td><td>3.800000</td><td>3.800000</td><td>3.600000</td><td>0</td><td>0</td><td>301</td><td>0</td><td>1</td><td>1</td><td>0</td><td>1</td></tr>\n",
       "\t<tr><th scope=row>365</th><td>6780</td><td>6</td><td>71.76000</td><td>11</td><td>420</td><td>250000.0</td><td>240000.0</td><td>4.000000</td><td>4.000000</td><td>4.000000</td><td>4.000000</td><td>0</td><td>0</td><td>301</td><td>0</td><td>0</td><td>1</td><td>0</td><td>0</td></tr>\n",
       "\t<tr><th scope=row>367</th><td>6782</td><td>6</td><td>28.69000</td><td> 4</td><td>105</td><td>170000.0</td><td>350000.0</td><td>4.600000</td><td>4.000000</td><td>4.500000</td><td>4.500000</td><td>0</td><td>0</td><td>301</td><td>0</td><td>0</td><td>1</td><td>0</td><td>0</td></tr>\n",
       "\t<tr><th scope=row>368</th><td>6786</td><td>6</td><td>79.87000</td><td> 5</td><td>420</td><td>330000.0</td><td>350000.0</td><td>4.200000</td><td>4.000000</td><td>5.000000</td><td>5.000000</td><td>0</td><td>0</td><td>301</td><td>1</td><td>0</td><td>1</td><td>0</td><td>0</td></tr>\n",
       "\t<tr><th scope=row>376</th><td>6805</td><td>6</td><td>71.74876</td><td> 4</td><td>300</td><td>200000.0</td><td>360633.9</td><td>3.666295</td><td>3.804457</td><td>3.822472</td><td>3.756056</td><td>0</td><td>0</td><td>301</td><td>1</td><td>0</td><td>0</td><td>0</td><td>0</td></tr>\n",
       "\t<tr><th scope=row>378</th><td>6809</td><td>6</td><td>30.00000</td><td> 6</td><td>360</td><td>244000.0</td><td>400000.0</td><td>4.500000</td><td>4.500000</td><td>3.822472</td><td>3.756056</td><td>0</td><td>0</td><td>301</td><td>1</td><td>0</td><td>1</td><td>0</td><td>0</td></tr>\n",
       "\t<tr><th scope=row>379</th><td>6811</td><td>6</td><td>42.56000</td><td>16</td><td>660</td><td>620000.0</td><td>380000.0</td><td>4.100000</td><td>4.700000</td><td>3.900000</td><td>4.200000</td><td>0</td><td>0</td><td>301</td><td>1</td><td>0</td><td>1</td><td>0</td><td>0</td></tr>\n",
       "\t<tr><th scope=row>383</th><td>6839</td><td>6</td><td>76.27000</td><td> 5</td><td>420</td><td>250000.0</td><td>300000.0</td><td>3.900000</td><td>4.000000</td><td>4.000000</td><td>4.000000</td><td>0</td><td>0</td><td>301</td><td>0</td><td>1</td><td>1</td><td>0</td><td>0</td></tr>\n",
       "\t<tr><th scope=row>385</th><td>6901</td><td>6</td><td>54.91000</td><td> 4</td><td>240</td><td>340000.0</td><td>400000.0</td><td>4.600000</td><td>4.700000</td><td>3.822472</td><td>3.756056</td><td>0</td><td>0</td><td>301</td><td>1</td><td>0</td><td>1</td><td>0</td><td>0</td></tr>\n",
       "\t<tr><th scope=row>386</th><td>6938</td><td>6</td><td>46.44000</td><td> 8</td><td>540</td><td>250000.0</td><td>360633.9</td><td>3.700000</td><td>3.700000</td><td>3.800000</td><td>3.600000</td><td>0</td><td>0</td><td>301</td><td>1</td><td>0</td><td>1</td><td>0</td><td>0</td></tr>\n",
       "</tbody>\n",
       "</table>\n"
      ],
      "text/latex": [
       "A data.frame: 130 × 19\n",
       "\\begin{tabular}{r|lllllllllllllllllll}\n",
       "  & college\\_code & division & cutoff & courses & intake & fees & salary & rating & infrastructure & faculty & crowd & government & autonomous & rank & new\\_ban & admission & hostel\\_BOTH & hostel\\_ONE & decision\\\\\n",
       "  & <int> & <int> & <dbl> & <int> & <dbl> & <dbl> & <dbl> & <dbl> & <dbl> & <dbl> & <dbl> & <int> & <int> & <int> & <int> & <int> & <int> & <int> & <fct>\\\\\n",
       "\\hline\n",
       "\t1 & 1002 & 1 & 96.44000 &  8 &  300 & 240000 & 390000.0 & 3.400000 & 3.200000 & 3.500000 & 3.700000 & 1 & 1 & 301 & 0 & 1 & 1 & 0 & 1\\\\\n",
       "\t5 & 1105 & 1 & 88.05000 &  8 &  480 & 440000 & 330000.0 & 3.900000 & 4.000000 & 3.900000 & 4.200000 & 0 & 1 & 250 & 0 & 1 & 0 & 0 & 1\\\\\n",
       "\t7 & 1108 & 1 & 43.04000 &  5 &  300 & 310000 & 300000.0 & 3.900000 & 4.000000 & 4.300000 & 3.500000 & 0 & 0 & 301 & 0 & 0 & 1 & 0 & 0\\\\\n",
       "\t8 & 1114 & 1 & 81.55000 &  6 &  300 & 320000 & 370000.0 & 4.000000 & 4.400000 & 3.900000 & 4.200000 & 0 & 0 & 301 & 0 & 1 & 1 & 0 & 1\\\\\n",
       "\t16 & 1124 & 1 & 49.08000 &  5 &  300 & 490000 & 230000.0 & 3.600000 & 4.300000 & 3.600000 & 3.500000 & 0 & 0 & 301 & 1 & 0 & 1 & 0 & 0\\\\\n",
       "\t18 & 1126 & 1 & 67.71000 &  5 &  300 & 170000 & 490000.0 & 5.000000 & 5.000000 & 5.000000 & 5.000000 & 0 & 0 & 301 & 0 & 0 & 1 & 0 & 0\\\\\n",
       "\t19 & 1127 & 1 & 62.39000 &  5 &  150 & 330000 & 190000.0 & 3.600000 & 3.000000 & 3.000000 & 3.500000 & 0 & 0 & 301 & 0 & 0 & 1 & 0 & 0\\\\\n",
       "\t23 & 1180 & 1 & 49.05000 &  5 &  270 & 320000 & 360633.9 & 2.600000 & 3.000000 & 2.000000 & 3.000000 & 0 & 0 & 301 & 0 & 0 & 0 & 0 & 0\\\\\n",
       "\t25 & 1251 & 1 & 16.73000 &  6 &  300 & 284000 & 280000.0 & 3.400000 & 3.200000 & 3.400000 & 3.600000 & 0 & 0 & 301 & 1 & 0 & 1 & 0 & 0\\\\\n",
       "\t26 & 1265 & 1 & 77.08000 &  6 &  300 & 230000 & 400000.0 & 4.200000 & 4.300000 & 4.400000 & 4.600000 & 0 & 0 & 301 & 0 & 1 & 1 & 0 & 0\\\\\n",
       "\t34 & 2032 & 2 & 95.33000 &  1 &   60 & 320000 & 360633.9 & 3.666295 & 3.804457 & 3.822472 & 3.756056 & 0 & 1 & 301 & 0 & 1 & 1 & 0 & 1\\\\\n",
       "\t36 & 2112 & 2 & 64.06000 & 11 &  300 & 240000 & 330000.0 & 4.000000 & 4.200000 & 4.200000 & 4.300000 & 0 & 0 & 301 & 0 & 0 & 1 & 0 & 0\\\\\n",
       "\t37 & 2113 & 2 & 82.40000 & 13 &  450 & 410000 & 240000.0 & 3.600000 & 3.800000 & 3.800000 & 3.700000 & 0 & 1 & 301 & 0 & 1 & 1 & 0 & 1\\\\\n",
       "\t41 & 2127 & 2 & 80.37000 &  5 &  420 & 350000 & 360000.0 & 3.900000 & 4.300000 & 4.300000 & 3.800000 & 0 & 0 & 301 & 0 & 1 & 1 & 0 & 1\\\\\n",
       "\t43 & 2129 & 2 & 79.53000 &  7 &  420 & 300000 & 400000.0 & 3.800000 & 3.900000 & 4.200000 & 4.100000 & 0 & 0 & 301 & 0 & 1 & 1 & 0 & 1\\\\\n",
       "\t44 & 2130 & 2 & 61.88000 &  5 &  570 & 270000 & 300000.0 & 4.200000 & 4.000000 & 4.300000 & 3.700000 & 0 & 0 & 301 & 0 & 0 & 1 & 0 & 0\\\\\n",
       "\t52 & 2138 & 2 & 64.49000 &  4 &  270 & 250000 & 330000.0 & 3.900000 & 4.500000 & 5.000000 & 5.000000 & 0 & 0 & 301 & 0 & 0 & 1 & 0 & 0\\\\\n",
       "\t54 & 2145 & 2 & 71.74876 &  5 &  300 &  57000 & 360633.9 & 2.000000 & 1.000000 & 2.500000 & 3.000000 & 0 & 0 & 301 & 1 & 0 & 1 & 0 & 0\\\\\n",
       "\t55 & 2146 & 2 & 62.36000 &  3 &  192 & 130000 & 570000.0 & 4.200000 & 4.000000 & 4.000000 & 5.000000 & 0 & 0 & 301 & 1 & 0 & 1 & 0 & 0\\\\\n",
       "\t59 & 2255 & 2 & 71.74876 &  3 &  150 & 220000 & 360633.9 & 3.666295 & 3.804457 & 3.822472 & 3.756056 & 0 & 0 & 301 & 1 & 0 & 0 & 0 & 0\\\\\n",
       "\t61 & 2516 & 2 & 54.12000 &  6 &  360 & 200000 & 350000.0 & 4.000000 & 4.000000 & 4.000000 & 4.000000 & 0 & 0 & 301 & 0 & 0 & 0 & 0 & 0\\\\\n",
       "\t62 & 2522 & 2 & 47.76000 &  7 &  300 & 320000 & 840000.0 & 3.500000 & 3.000000 & 3.000000 & 3.500000 & 0 & 0 & 301 & 0 & 0 & 0 & 0 & 0\\\\\n",
       "\t70 & 3036 & 3 & 99.51000 &  8 &  209 & 450000 & 800000.0 & 4.500000 & 4.400000 & 4.700000 & 4.400000 & 1 & 1 &  12 & 0 & 1 & 1 & 0 & 0\\\\\n",
       "\t72 & 3135 & 3 & 94.71000 &  5 & 1020 & 430000 & 360633.9 & 3.600000 & 3.500000 & 4.000000 & 4.500000 & 0 & 0 & 301 & 0 & 1 & 0 & 0 & 1\\\\\n",
       "\t73 & 3139 & 3 & 96.84000 & 10 & 1140 & 550000 & 350000.0 & 4.300000 & 4.700000 & 4.300000 & 4.300000 & 0 & 1 & 301 & 0 & 1 & 0 & 0 & 0\\\\\n",
       "\t77 & 3154 & 3 & 88.74000 &  8 &  330 & 440000 & 300000.0 & 4.000000 & 4.000000 & 4.200000 & 4.000000 & 0 & 0 & 301 & 0 & 1 & 0 & 0 & 0\\\\\n",
       "\t79 & 3175 & 3 & 85.25000 & 12 &  240 & 280000 & 360633.9 & 3.500000 & 3.700000 & 3.600000 & 3.600000 & 0 & 0 & 301 & 0 & 0 & 1 & 0 & 1\\\\\n",
       "\t80 & 3176 & 3 & 96.46000 & 11 &  360 & 520000 & 450000.0 & 4.100000 & 4.500000 & 4.000000 & 4.200000 & 0 & 1 & 193 & 0 & 1 & 1 & 0 & 0\\\\\n",
       "\t88 & 3189 & 3 & 94.08000 &  6 &  270 & 370000 & 700000.0 & 3.700000 & 3.800000 & 3.800000 & 3.900000 & 0 & 0 & 301 & 0 & 1 & 1 & 0 & 1\\\\\n",
       "\t90 & 3191 & 3 & 59.38000 &  5 &  382 & 120000 & 200000.0 & 3.400000 & 4.000000 & 4.000000 & 4.000000 & 0 & 0 & 301 & 1 & 0 & 1 & 0 & 0\\\\\n",
       "\t⋮ & ⋮ & ⋮ & ⋮ & ⋮ & ⋮ & ⋮ & ⋮ & ⋮ & ⋮ & ⋮ & ⋮ & ⋮ & ⋮ & ⋮ & ⋮ & ⋮ & ⋮ & ⋮ & ⋮\\\\\n",
       "\t304 & 6284 & 6 & 91.47000 &  7 & 420 & 340000.0 & 360633.9 & 4.000000 & 4.500000 & 4.500000 & 3.000000 & 0 & 1 & 301 & 0 & 1 & 1 & 0 & 1\\\\\n",
       "\t306 & 6288 & 6 & 83.24000 & 10 & 300 & 300000.0 & 360000.0 & 3.800000 & 3.900000 & 4.000000 & 3.900000 & 0 & 0 & 301 & 0 & 1 & 1 & 0 & 1\\\\\n",
       "\t307 & 6289 & 6 & 97.98000 &  7 & 300 & 570000.0 & 610000.0 & 3.900000 & 3.700000 & 4.300000 & 4.000000 & 0 & 1 & 155 & 0 & 1 & 1 & 0 & 1\\\\\n",
       "\t311 & 6303 & 6 & 75.18000 &  5 & 240 & 240000.0 & 436000.0 & 4.000000 & 4.200000 & 4.100000 & 4.200000 & 0 & 0 & 301 & 0 & 1 & 1 & 0 & 0\\\\\n",
       "\t313 & 6305 & 6 & 46.17000 &  5 & 210 & 192000.0 & 360633.9 & 3.666295 & 3.804457 & 3.822472 & 3.756056 & 0 & 0 & 301 & 1 & 0 & 0 & 0 & 0\\\\\n",
       "\t314 & 6307 & 6 & 83.32000 & 12 & 255 & 370000.0 & 350000.0 & 4.100000 & 4.200000 & 4.200000 & 4.100000 & 0 & 0 & 301 & 0 & 1 & 1 & 0 & 1\\\\\n",
       "\t322 & 6319 & 6 & 63.05000 &  6 & 360 & 308000.0 & 350000.0 & 3.600000 & 3.900000 & 4.000000 & 3.800000 & 0 & 0 & 301 & 0 & 0 & 1 & 0 & 0\\\\\n",
       "\t324 & 6321 & 6 & 45.67000 &  6 & 300 & 240000.0 & 360000.0 & 3.200000 & 3.700000 & 3.700000 & 2.700000 & 0 & 0 & 301 & 0 & 0 & 1 & 0 & 0\\\\\n",
       "\t325 & 6322 & 6 & 57.44000 &  3 &  90 & 270000.0 & 420000.0 & 2.700000 & 3.600000 & 2.400000 & 2.700000 & 0 & 0 & 301 & 0 & 0 & 0 & 0 & 0\\\\\n",
       "\t329 & 6326 & 6 & 54.12000 &  4 & 240 & 280000.0 & 320000.0 & 4.000000 & 4.000000 & 4.800000 & 3.800000 & 0 & 0 & 301 & 0 & 0 & 1 & 0 & 0\\\\\n",
       "\t331 & 6444 & 6 &  2.45000 &  5 & 180 & 141000.0 & 360633.9 & 3.200000 & 3.500000 & 4.000000 & 2.500000 & 0 & 0 & 301 & 1 & 0 & 1 & 0 & 0\\\\\n",
       "\t332 & 6466 & 6 & 50.81000 &  4 & 180 & 320000.0 & 360000.0 & 4.800000 & 5.000000 & 5.000000 & 4.000000 & 0 & 0 & 301 & 1 & 0 & 0 & 0 & 0\\\\\n",
       "\t340 & 6625 & 6 & 79.47200 &  3 &  91 & 280000.0 & 300000.0 & 2.100000 & 2.000000 & 2.300000 & 2.400000 & 0 & 0 & 301 & 0 & 1 & 1 & 0 & 1\\\\\n",
       "\t342 & 6629 & 6 & 71.74876 &  4 & 382 & 270000.0 & 360633.9 & 3.666295 & 3.804457 & 3.822472 & 3.756056 & 0 & 0 & 301 & 1 & 0 & 0 & 0 & 0\\\\\n",
       "\t343 & 6632 & 6 & 67.71400 &  6 & 360 & 300000.0 & 220000.0 & 3.600000 & 3.900000 & 3.900000 & 3.500000 & 0 & 0 & 301 & 0 & 0 & 1 & 0 & 0\\\\\n",
       "\t347 & 6643 & 6 & 81.98400 &  5 & 360 & 310000.0 & 200000.0 & 4.200000 & 4.500000 & 4.300000 & 4.500000 & 0 & 0 & 301 & 0 & 1 & 1 & 0 & 1\\\\\n",
       "\t349 & 6649 & 6 & 85.68000 &  7 & 400 & 310000.0 & 350000.0 & 4.100000 & 4.200000 & 4.400000 & 4.200000 & 0 & 0 & 301 & 0 & 1 & 1 & 0 & 1\\\\\n",
       "\t350 & 6732 & 6 & 87.43000 &  6 & 420 & 330000.0 & 400000.0 & 4.200000 & 4.700000 & 4.700000 & 4.300000 & 0 & 0 & 301 & 0 & 1 & 1 & 0 & 1\\\\\n",
       "\t358 & 6766 & 6 & 63.08000 &  5 & 300 & 260000.0 & 350000.0 & 4.700000 & 5.000000 & 5.000000 & 4.500000 & 0 & 0 & 301 & 0 & 0 & 0 & 0 & 0\\\\\n",
       "\t360 & 6768 & 6 & 77.41000 &  4 & 255 & 190000.0 & 180000.0 & 3.800000 & 3.800000 & 3.800000 & 3.900000 & 0 & 0 & 301 & 0 & 1 & 0 & 0 & 0\\\\\n",
       "\t361 & 6769 & 6 & 84.68000 &  5 & 480 & 322661.9 & 400000.0 & 3.800000 & 3.800000 & 3.800000 & 3.600000 & 0 & 0 & 301 & 0 & 1 & 1 & 0 & 1\\\\\n",
       "\t365 & 6780 & 6 & 71.76000 & 11 & 420 & 250000.0 & 240000.0 & 4.000000 & 4.000000 & 4.000000 & 4.000000 & 0 & 0 & 301 & 0 & 0 & 1 & 0 & 0\\\\\n",
       "\t367 & 6782 & 6 & 28.69000 &  4 & 105 & 170000.0 & 350000.0 & 4.600000 & 4.000000 & 4.500000 & 4.500000 & 0 & 0 & 301 & 0 & 0 & 1 & 0 & 0\\\\\n",
       "\t368 & 6786 & 6 & 79.87000 &  5 & 420 & 330000.0 & 350000.0 & 4.200000 & 4.000000 & 5.000000 & 5.000000 & 0 & 0 & 301 & 1 & 0 & 1 & 0 & 0\\\\\n",
       "\t376 & 6805 & 6 & 71.74876 &  4 & 300 & 200000.0 & 360633.9 & 3.666295 & 3.804457 & 3.822472 & 3.756056 & 0 & 0 & 301 & 1 & 0 & 0 & 0 & 0\\\\\n",
       "\t378 & 6809 & 6 & 30.00000 &  6 & 360 & 244000.0 & 400000.0 & 4.500000 & 4.500000 & 3.822472 & 3.756056 & 0 & 0 & 301 & 1 & 0 & 1 & 0 & 0\\\\\n",
       "\t379 & 6811 & 6 & 42.56000 & 16 & 660 & 620000.0 & 380000.0 & 4.100000 & 4.700000 & 3.900000 & 4.200000 & 0 & 0 & 301 & 1 & 0 & 1 & 0 & 0\\\\\n",
       "\t383 & 6839 & 6 & 76.27000 &  5 & 420 & 250000.0 & 300000.0 & 3.900000 & 4.000000 & 4.000000 & 4.000000 & 0 & 0 & 301 & 0 & 1 & 1 & 0 & 0\\\\\n",
       "\t385 & 6901 & 6 & 54.91000 &  4 & 240 & 340000.0 & 400000.0 & 4.600000 & 4.700000 & 3.822472 & 3.756056 & 0 & 0 & 301 & 1 & 0 & 1 & 0 & 0\\\\\n",
       "\t386 & 6938 & 6 & 46.44000 &  8 & 540 & 250000.0 & 360633.9 & 3.700000 & 3.700000 & 3.800000 & 3.600000 & 0 & 0 & 301 & 1 & 0 & 1 & 0 & 0\\\\\n",
       "\\end{tabular}\n"
      ],
      "text/markdown": [
       "\n",
       "A data.frame: 130 × 19\n",
       "\n",
       "| <!--/--> | college_code &lt;int&gt; | division &lt;int&gt; | cutoff &lt;dbl&gt; | courses &lt;int&gt; | intake &lt;dbl&gt; | fees &lt;dbl&gt; | salary &lt;dbl&gt; | rating &lt;dbl&gt; | infrastructure &lt;dbl&gt; | faculty &lt;dbl&gt; | crowd &lt;dbl&gt; | government &lt;int&gt; | autonomous &lt;int&gt; | rank &lt;int&gt; | new_ban &lt;int&gt; | admission &lt;int&gt; | hostel_BOTH &lt;int&gt; | hostel_ONE &lt;int&gt; | decision &lt;fct&gt; |\n",
       "|---|---|---|---|---|---|---|---|---|---|---|---|---|---|---|---|---|---|---|---|\n",
       "| 1 | 1002 | 1 | 96.44000 |  8 |  300 | 240000 | 390000.0 | 3.400000 | 3.200000 | 3.500000 | 3.700000 | 1 | 1 | 301 | 0 | 1 | 1 | 0 | 1 |\n",
       "| 5 | 1105 | 1 | 88.05000 |  8 |  480 | 440000 | 330000.0 | 3.900000 | 4.000000 | 3.900000 | 4.200000 | 0 | 1 | 250 | 0 | 1 | 0 | 0 | 1 |\n",
       "| 7 | 1108 | 1 | 43.04000 |  5 |  300 | 310000 | 300000.0 | 3.900000 | 4.000000 | 4.300000 | 3.500000 | 0 | 0 | 301 | 0 | 0 | 1 | 0 | 0 |\n",
       "| 8 | 1114 | 1 | 81.55000 |  6 |  300 | 320000 | 370000.0 | 4.000000 | 4.400000 | 3.900000 | 4.200000 | 0 | 0 | 301 | 0 | 1 | 1 | 0 | 1 |\n",
       "| 16 | 1124 | 1 | 49.08000 |  5 |  300 | 490000 | 230000.0 | 3.600000 | 4.300000 | 3.600000 | 3.500000 | 0 | 0 | 301 | 1 | 0 | 1 | 0 | 0 |\n",
       "| 18 | 1126 | 1 | 67.71000 |  5 |  300 | 170000 | 490000.0 | 5.000000 | 5.000000 | 5.000000 | 5.000000 | 0 | 0 | 301 | 0 | 0 | 1 | 0 | 0 |\n",
       "| 19 | 1127 | 1 | 62.39000 |  5 |  150 | 330000 | 190000.0 | 3.600000 | 3.000000 | 3.000000 | 3.500000 | 0 | 0 | 301 | 0 | 0 | 1 | 0 | 0 |\n",
       "| 23 | 1180 | 1 | 49.05000 |  5 |  270 | 320000 | 360633.9 | 2.600000 | 3.000000 | 2.000000 | 3.000000 | 0 | 0 | 301 | 0 | 0 | 0 | 0 | 0 |\n",
       "| 25 | 1251 | 1 | 16.73000 |  6 |  300 | 284000 | 280000.0 | 3.400000 | 3.200000 | 3.400000 | 3.600000 | 0 | 0 | 301 | 1 | 0 | 1 | 0 | 0 |\n",
       "| 26 | 1265 | 1 | 77.08000 |  6 |  300 | 230000 | 400000.0 | 4.200000 | 4.300000 | 4.400000 | 4.600000 | 0 | 0 | 301 | 0 | 1 | 1 | 0 | 0 |\n",
       "| 34 | 2032 | 2 | 95.33000 |  1 |   60 | 320000 | 360633.9 | 3.666295 | 3.804457 | 3.822472 | 3.756056 | 0 | 1 | 301 | 0 | 1 | 1 | 0 | 1 |\n",
       "| 36 | 2112 | 2 | 64.06000 | 11 |  300 | 240000 | 330000.0 | 4.000000 | 4.200000 | 4.200000 | 4.300000 | 0 | 0 | 301 | 0 | 0 | 1 | 0 | 0 |\n",
       "| 37 | 2113 | 2 | 82.40000 | 13 |  450 | 410000 | 240000.0 | 3.600000 | 3.800000 | 3.800000 | 3.700000 | 0 | 1 | 301 | 0 | 1 | 1 | 0 | 1 |\n",
       "| 41 | 2127 | 2 | 80.37000 |  5 |  420 | 350000 | 360000.0 | 3.900000 | 4.300000 | 4.300000 | 3.800000 | 0 | 0 | 301 | 0 | 1 | 1 | 0 | 1 |\n",
       "| 43 | 2129 | 2 | 79.53000 |  7 |  420 | 300000 | 400000.0 | 3.800000 | 3.900000 | 4.200000 | 4.100000 | 0 | 0 | 301 | 0 | 1 | 1 | 0 | 1 |\n",
       "| 44 | 2130 | 2 | 61.88000 |  5 |  570 | 270000 | 300000.0 | 4.200000 | 4.000000 | 4.300000 | 3.700000 | 0 | 0 | 301 | 0 | 0 | 1 | 0 | 0 |\n",
       "| 52 | 2138 | 2 | 64.49000 |  4 |  270 | 250000 | 330000.0 | 3.900000 | 4.500000 | 5.000000 | 5.000000 | 0 | 0 | 301 | 0 | 0 | 1 | 0 | 0 |\n",
       "| 54 | 2145 | 2 | 71.74876 |  5 |  300 |  57000 | 360633.9 | 2.000000 | 1.000000 | 2.500000 | 3.000000 | 0 | 0 | 301 | 1 | 0 | 1 | 0 | 0 |\n",
       "| 55 | 2146 | 2 | 62.36000 |  3 |  192 | 130000 | 570000.0 | 4.200000 | 4.000000 | 4.000000 | 5.000000 | 0 | 0 | 301 | 1 | 0 | 1 | 0 | 0 |\n",
       "| 59 | 2255 | 2 | 71.74876 |  3 |  150 | 220000 | 360633.9 | 3.666295 | 3.804457 | 3.822472 | 3.756056 | 0 | 0 | 301 | 1 | 0 | 0 | 0 | 0 |\n",
       "| 61 | 2516 | 2 | 54.12000 |  6 |  360 | 200000 | 350000.0 | 4.000000 | 4.000000 | 4.000000 | 4.000000 | 0 | 0 | 301 | 0 | 0 | 0 | 0 | 0 |\n",
       "| 62 | 2522 | 2 | 47.76000 |  7 |  300 | 320000 | 840000.0 | 3.500000 | 3.000000 | 3.000000 | 3.500000 | 0 | 0 | 301 | 0 | 0 | 0 | 0 | 0 |\n",
       "| 70 | 3036 | 3 | 99.51000 |  8 |  209 | 450000 | 800000.0 | 4.500000 | 4.400000 | 4.700000 | 4.400000 | 1 | 1 |  12 | 0 | 1 | 1 | 0 | 0 |\n",
       "| 72 | 3135 | 3 | 94.71000 |  5 | 1020 | 430000 | 360633.9 | 3.600000 | 3.500000 | 4.000000 | 4.500000 | 0 | 0 | 301 | 0 | 1 | 0 | 0 | 1 |\n",
       "| 73 | 3139 | 3 | 96.84000 | 10 | 1140 | 550000 | 350000.0 | 4.300000 | 4.700000 | 4.300000 | 4.300000 | 0 | 1 | 301 | 0 | 1 | 0 | 0 | 0 |\n",
       "| 77 | 3154 | 3 | 88.74000 |  8 |  330 | 440000 | 300000.0 | 4.000000 | 4.000000 | 4.200000 | 4.000000 | 0 | 0 | 301 | 0 | 1 | 0 | 0 | 0 |\n",
       "| 79 | 3175 | 3 | 85.25000 | 12 |  240 | 280000 | 360633.9 | 3.500000 | 3.700000 | 3.600000 | 3.600000 | 0 | 0 | 301 | 0 | 0 | 1 | 0 | 1 |\n",
       "| 80 | 3176 | 3 | 96.46000 | 11 |  360 | 520000 | 450000.0 | 4.100000 | 4.500000 | 4.000000 | 4.200000 | 0 | 1 | 193 | 0 | 1 | 1 | 0 | 0 |\n",
       "| 88 | 3189 | 3 | 94.08000 |  6 |  270 | 370000 | 700000.0 | 3.700000 | 3.800000 | 3.800000 | 3.900000 | 0 | 0 | 301 | 0 | 1 | 1 | 0 | 1 |\n",
       "| 90 | 3191 | 3 | 59.38000 |  5 |  382 | 120000 | 200000.0 | 3.400000 | 4.000000 | 4.000000 | 4.000000 | 0 | 0 | 301 | 1 | 0 | 1 | 0 | 0 |\n",
       "| ⋮ | ⋮ | ⋮ | ⋮ | ⋮ | ⋮ | ⋮ | ⋮ | ⋮ | ⋮ | ⋮ | ⋮ | ⋮ | ⋮ | ⋮ | ⋮ | ⋮ | ⋮ | ⋮ | ⋮ |\n",
       "| 304 | 6284 | 6 | 91.47000 |  7 | 420 | 340000.0 | 360633.9 | 4.000000 | 4.500000 | 4.500000 | 3.000000 | 0 | 1 | 301 | 0 | 1 | 1 | 0 | 1 |\n",
       "| 306 | 6288 | 6 | 83.24000 | 10 | 300 | 300000.0 | 360000.0 | 3.800000 | 3.900000 | 4.000000 | 3.900000 | 0 | 0 | 301 | 0 | 1 | 1 | 0 | 1 |\n",
       "| 307 | 6289 | 6 | 97.98000 |  7 | 300 | 570000.0 | 610000.0 | 3.900000 | 3.700000 | 4.300000 | 4.000000 | 0 | 1 | 155 | 0 | 1 | 1 | 0 | 1 |\n",
       "| 311 | 6303 | 6 | 75.18000 |  5 | 240 | 240000.0 | 436000.0 | 4.000000 | 4.200000 | 4.100000 | 4.200000 | 0 | 0 | 301 | 0 | 1 | 1 | 0 | 0 |\n",
       "| 313 | 6305 | 6 | 46.17000 |  5 | 210 | 192000.0 | 360633.9 | 3.666295 | 3.804457 | 3.822472 | 3.756056 | 0 | 0 | 301 | 1 | 0 | 0 | 0 | 0 |\n",
       "| 314 | 6307 | 6 | 83.32000 | 12 | 255 | 370000.0 | 350000.0 | 4.100000 | 4.200000 | 4.200000 | 4.100000 | 0 | 0 | 301 | 0 | 1 | 1 | 0 | 1 |\n",
       "| 322 | 6319 | 6 | 63.05000 |  6 | 360 | 308000.0 | 350000.0 | 3.600000 | 3.900000 | 4.000000 | 3.800000 | 0 | 0 | 301 | 0 | 0 | 1 | 0 | 0 |\n",
       "| 324 | 6321 | 6 | 45.67000 |  6 | 300 | 240000.0 | 360000.0 | 3.200000 | 3.700000 | 3.700000 | 2.700000 | 0 | 0 | 301 | 0 | 0 | 1 | 0 | 0 |\n",
       "| 325 | 6322 | 6 | 57.44000 |  3 |  90 | 270000.0 | 420000.0 | 2.700000 | 3.600000 | 2.400000 | 2.700000 | 0 | 0 | 301 | 0 | 0 | 0 | 0 | 0 |\n",
       "| 329 | 6326 | 6 | 54.12000 |  4 | 240 | 280000.0 | 320000.0 | 4.000000 | 4.000000 | 4.800000 | 3.800000 | 0 | 0 | 301 | 0 | 0 | 1 | 0 | 0 |\n",
       "| 331 | 6444 | 6 |  2.45000 |  5 | 180 | 141000.0 | 360633.9 | 3.200000 | 3.500000 | 4.000000 | 2.500000 | 0 | 0 | 301 | 1 | 0 | 1 | 0 | 0 |\n",
       "| 332 | 6466 | 6 | 50.81000 |  4 | 180 | 320000.0 | 360000.0 | 4.800000 | 5.000000 | 5.000000 | 4.000000 | 0 | 0 | 301 | 1 | 0 | 0 | 0 | 0 |\n",
       "| 340 | 6625 | 6 | 79.47200 |  3 |  91 | 280000.0 | 300000.0 | 2.100000 | 2.000000 | 2.300000 | 2.400000 | 0 | 0 | 301 | 0 | 1 | 1 | 0 | 1 |\n",
       "| 342 | 6629 | 6 | 71.74876 |  4 | 382 | 270000.0 | 360633.9 | 3.666295 | 3.804457 | 3.822472 | 3.756056 | 0 | 0 | 301 | 1 | 0 | 0 | 0 | 0 |\n",
       "| 343 | 6632 | 6 | 67.71400 |  6 | 360 | 300000.0 | 220000.0 | 3.600000 | 3.900000 | 3.900000 | 3.500000 | 0 | 0 | 301 | 0 | 0 | 1 | 0 | 0 |\n",
       "| 347 | 6643 | 6 | 81.98400 |  5 | 360 | 310000.0 | 200000.0 | 4.200000 | 4.500000 | 4.300000 | 4.500000 | 0 | 0 | 301 | 0 | 1 | 1 | 0 | 1 |\n",
       "| 349 | 6649 | 6 | 85.68000 |  7 | 400 | 310000.0 | 350000.0 | 4.100000 | 4.200000 | 4.400000 | 4.200000 | 0 | 0 | 301 | 0 | 1 | 1 | 0 | 1 |\n",
       "| 350 | 6732 | 6 | 87.43000 |  6 | 420 | 330000.0 | 400000.0 | 4.200000 | 4.700000 | 4.700000 | 4.300000 | 0 | 0 | 301 | 0 | 1 | 1 | 0 | 1 |\n",
       "| 358 | 6766 | 6 | 63.08000 |  5 | 300 | 260000.0 | 350000.0 | 4.700000 | 5.000000 | 5.000000 | 4.500000 | 0 | 0 | 301 | 0 | 0 | 0 | 0 | 0 |\n",
       "| 360 | 6768 | 6 | 77.41000 |  4 | 255 | 190000.0 | 180000.0 | 3.800000 | 3.800000 | 3.800000 | 3.900000 | 0 | 0 | 301 | 0 | 1 | 0 | 0 | 0 |\n",
       "| 361 | 6769 | 6 | 84.68000 |  5 | 480 | 322661.9 | 400000.0 | 3.800000 | 3.800000 | 3.800000 | 3.600000 | 0 | 0 | 301 | 0 | 1 | 1 | 0 | 1 |\n",
       "| 365 | 6780 | 6 | 71.76000 | 11 | 420 | 250000.0 | 240000.0 | 4.000000 | 4.000000 | 4.000000 | 4.000000 | 0 | 0 | 301 | 0 | 0 | 1 | 0 | 0 |\n",
       "| 367 | 6782 | 6 | 28.69000 |  4 | 105 | 170000.0 | 350000.0 | 4.600000 | 4.000000 | 4.500000 | 4.500000 | 0 | 0 | 301 | 0 | 0 | 1 | 0 | 0 |\n",
       "| 368 | 6786 | 6 | 79.87000 |  5 | 420 | 330000.0 | 350000.0 | 4.200000 | 4.000000 | 5.000000 | 5.000000 | 0 | 0 | 301 | 1 | 0 | 1 | 0 | 0 |\n",
       "| 376 | 6805 | 6 | 71.74876 |  4 | 300 | 200000.0 | 360633.9 | 3.666295 | 3.804457 | 3.822472 | 3.756056 | 0 | 0 | 301 | 1 | 0 | 0 | 0 | 0 |\n",
       "| 378 | 6809 | 6 | 30.00000 |  6 | 360 | 244000.0 | 400000.0 | 4.500000 | 4.500000 | 3.822472 | 3.756056 | 0 | 0 | 301 | 1 | 0 | 1 | 0 | 0 |\n",
       "| 379 | 6811 | 6 | 42.56000 | 16 | 660 | 620000.0 | 380000.0 | 4.100000 | 4.700000 | 3.900000 | 4.200000 | 0 | 0 | 301 | 1 | 0 | 1 | 0 | 0 |\n",
       "| 383 | 6839 | 6 | 76.27000 |  5 | 420 | 250000.0 | 300000.0 | 3.900000 | 4.000000 | 4.000000 | 4.000000 | 0 | 0 | 301 | 0 | 1 | 1 | 0 | 0 |\n",
       "| 385 | 6901 | 6 | 54.91000 |  4 | 240 | 340000.0 | 400000.0 | 4.600000 | 4.700000 | 3.822472 | 3.756056 | 0 | 0 | 301 | 1 | 0 | 1 | 0 | 0 |\n",
       "| 386 | 6938 | 6 | 46.44000 |  8 | 540 | 250000.0 | 360633.9 | 3.700000 | 3.700000 | 3.800000 | 3.600000 | 0 | 0 | 301 | 1 | 0 | 1 | 0 | 0 |\n",
       "\n"
      ],
      "text/plain": [
       "    college_code division cutoff   courses intake fees     salary   rating  \n",
       "1   1002         1        96.44000  8       300   240000   390000.0 3.400000\n",
       "5   1105         1        88.05000  8       480   440000   330000.0 3.900000\n",
       "7   1108         1        43.04000  5       300   310000   300000.0 3.900000\n",
       "8   1114         1        81.55000  6       300   320000   370000.0 4.000000\n",
       "16  1124         1        49.08000  5       300   490000   230000.0 3.600000\n",
       "18  1126         1        67.71000  5       300   170000   490000.0 5.000000\n",
       "19  1127         1        62.39000  5       150   330000   190000.0 3.600000\n",
       "23  1180         1        49.05000  5       270   320000   360633.9 2.600000\n",
       "25  1251         1        16.73000  6       300   284000   280000.0 3.400000\n",
       "26  1265         1        77.08000  6       300   230000   400000.0 4.200000\n",
       "34  2032         2        95.33000  1        60   320000   360633.9 3.666295\n",
       "36  2112         2        64.06000 11       300   240000   330000.0 4.000000\n",
       "37  2113         2        82.40000 13       450   410000   240000.0 3.600000\n",
       "41  2127         2        80.37000  5       420   350000   360000.0 3.900000\n",
       "43  2129         2        79.53000  7       420   300000   400000.0 3.800000\n",
       "44  2130         2        61.88000  5       570   270000   300000.0 4.200000\n",
       "52  2138         2        64.49000  4       270   250000   330000.0 3.900000\n",
       "54  2145         2        71.74876  5       300    57000   360633.9 2.000000\n",
       "55  2146         2        62.36000  3       192   130000   570000.0 4.200000\n",
       "59  2255         2        71.74876  3       150   220000   360633.9 3.666295\n",
       "61  2516         2        54.12000  6       360   200000   350000.0 4.000000\n",
       "62  2522         2        47.76000  7       300   320000   840000.0 3.500000\n",
       "70  3036         3        99.51000  8       209   450000   800000.0 4.500000\n",
       "72  3135         3        94.71000  5      1020   430000   360633.9 3.600000\n",
       "73  3139         3        96.84000 10      1140   550000   350000.0 4.300000\n",
       "77  3154         3        88.74000  8       330   440000   300000.0 4.000000\n",
       "79  3175         3        85.25000 12       240   280000   360633.9 3.500000\n",
       "80  3176         3        96.46000 11       360   520000   450000.0 4.100000\n",
       "88  3189         3        94.08000  6       270   370000   700000.0 3.700000\n",
       "90  3191         3        59.38000  5       382   120000   200000.0 3.400000\n",
       "⋮   ⋮            ⋮        ⋮        ⋮       ⋮      ⋮        ⋮        ⋮       \n",
       "304 6284         6        91.47000  7      420    340000.0 360633.9 4.000000\n",
       "306 6288         6        83.24000 10      300    300000.0 360000.0 3.800000\n",
       "307 6289         6        97.98000  7      300    570000.0 610000.0 3.900000\n",
       "311 6303         6        75.18000  5      240    240000.0 436000.0 4.000000\n",
       "313 6305         6        46.17000  5      210    192000.0 360633.9 3.666295\n",
       "314 6307         6        83.32000 12      255    370000.0 350000.0 4.100000\n",
       "322 6319         6        63.05000  6      360    308000.0 350000.0 3.600000\n",
       "324 6321         6        45.67000  6      300    240000.0 360000.0 3.200000\n",
       "325 6322         6        57.44000  3       90    270000.0 420000.0 2.700000\n",
       "329 6326         6        54.12000  4      240    280000.0 320000.0 4.000000\n",
       "331 6444         6         2.45000  5      180    141000.0 360633.9 3.200000\n",
       "332 6466         6        50.81000  4      180    320000.0 360000.0 4.800000\n",
       "340 6625         6        79.47200  3       91    280000.0 300000.0 2.100000\n",
       "342 6629         6        71.74876  4      382    270000.0 360633.9 3.666295\n",
       "343 6632         6        67.71400  6      360    300000.0 220000.0 3.600000\n",
       "347 6643         6        81.98400  5      360    310000.0 200000.0 4.200000\n",
       "349 6649         6        85.68000  7      400    310000.0 350000.0 4.100000\n",
       "350 6732         6        87.43000  6      420    330000.0 400000.0 4.200000\n",
       "358 6766         6        63.08000  5      300    260000.0 350000.0 4.700000\n",
       "360 6768         6        77.41000  4      255    190000.0 180000.0 3.800000\n",
       "361 6769         6        84.68000  5      480    322661.9 400000.0 3.800000\n",
       "365 6780         6        71.76000 11      420    250000.0 240000.0 4.000000\n",
       "367 6782         6        28.69000  4      105    170000.0 350000.0 4.600000\n",
       "368 6786         6        79.87000  5      420    330000.0 350000.0 4.200000\n",
       "376 6805         6        71.74876  4      300    200000.0 360633.9 3.666295\n",
       "378 6809         6        30.00000  6      360    244000.0 400000.0 4.500000\n",
       "379 6811         6        42.56000 16      660    620000.0 380000.0 4.100000\n",
       "383 6839         6        76.27000  5      420    250000.0 300000.0 3.900000\n",
       "385 6901         6        54.91000  4      240    340000.0 400000.0 4.600000\n",
       "386 6938         6        46.44000  8      540    250000.0 360633.9 3.700000\n",
       "    infrastructure faculty  crowd    government autonomous rank new_ban\n",
       "1   3.200000       3.500000 3.700000 1          1          301  0      \n",
       "5   4.000000       3.900000 4.200000 0          1          250  0      \n",
       "7   4.000000       4.300000 3.500000 0          0          301  0      \n",
       "8   4.400000       3.900000 4.200000 0          0          301  0      \n",
       "16  4.300000       3.600000 3.500000 0          0          301  1      \n",
       "18  5.000000       5.000000 5.000000 0          0          301  0      \n",
       "19  3.000000       3.000000 3.500000 0          0          301  0      \n",
       "23  3.000000       2.000000 3.000000 0          0          301  0      \n",
       "25  3.200000       3.400000 3.600000 0          0          301  1      \n",
       "26  4.300000       4.400000 4.600000 0          0          301  0      \n",
       "34  3.804457       3.822472 3.756056 0          1          301  0      \n",
       "36  4.200000       4.200000 4.300000 0          0          301  0      \n",
       "37  3.800000       3.800000 3.700000 0          1          301  0      \n",
       "41  4.300000       4.300000 3.800000 0          0          301  0      \n",
       "43  3.900000       4.200000 4.100000 0          0          301  0      \n",
       "44  4.000000       4.300000 3.700000 0          0          301  0      \n",
       "52  4.500000       5.000000 5.000000 0          0          301  0      \n",
       "54  1.000000       2.500000 3.000000 0          0          301  1      \n",
       "55  4.000000       4.000000 5.000000 0          0          301  1      \n",
       "59  3.804457       3.822472 3.756056 0          0          301  1      \n",
       "61  4.000000       4.000000 4.000000 0          0          301  0      \n",
       "62  3.000000       3.000000 3.500000 0          0          301  0      \n",
       "70  4.400000       4.700000 4.400000 1          1           12  0      \n",
       "72  3.500000       4.000000 4.500000 0          0          301  0      \n",
       "73  4.700000       4.300000 4.300000 0          1          301  0      \n",
       "77  4.000000       4.200000 4.000000 0          0          301  0      \n",
       "79  3.700000       3.600000 3.600000 0          0          301  0      \n",
       "80  4.500000       4.000000 4.200000 0          1          193  0      \n",
       "88  3.800000       3.800000 3.900000 0          0          301  0      \n",
       "90  4.000000       4.000000 4.000000 0          0          301  1      \n",
       "⋮   ⋮              ⋮        ⋮        ⋮          ⋮          ⋮    ⋮      \n",
       "304 4.500000       4.500000 3.000000 0          1          301  0      \n",
       "306 3.900000       4.000000 3.900000 0          0          301  0      \n",
       "307 3.700000       4.300000 4.000000 0          1          155  0      \n",
       "311 4.200000       4.100000 4.200000 0          0          301  0      \n",
       "313 3.804457       3.822472 3.756056 0          0          301  1      \n",
       "314 4.200000       4.200000 4.100000 0          0          301  0      \n",
       "322 3.900000       4.000000 3.800000 0          0          301  0      \n",
       "324 3.700000       3.700000 2.700000 0          0          301  0      \n",
       "325 3.600000       2.400000 2.700000 0          0          301  0      \n",
       "329 4.000000       4.800000 3.800000 0          0          301  0      \n",
       "331 3.500000       4.000000 2.500000 0          0          301  1      \n",
       "332 5.000000       5.000000 4.000000 0          0          301  1      \n",
       "340 2.000000       2.300000 2.400000 0          0          301  0      \n",
       "342 3.804457       3.822472 3.756056 0          0          301  1      \n",
       "343 3.900000       3.900000 3.500000 0          0          301  0      \n",
       "347 4.500000       4.300000 4.500000 0          0          301  0      \n",
       "349 4.200000       4.400000 4.200000 0          0          301  0      \n",
       "350 4.700000       4.700000 4.300000 0          0          301  0      \n",
       "358 5.000000       5.000000 4.500000 0          0          301  0      \n",
       "360 3.800000       3.800000 3.900000 0          0          301  0      \n",
       "361 3.800000       3.800000 3.600000 0          0          301  0      \n",
       "365 4.000000       4.000000 4.000000 0          0          301  0      \n",
       "367 4.000000       4.500000 4.500000 0          0          301  0      \n",
       "368 4.000000       5.000000 5.000000 0          0          301  1      \n",
       "376 3.804457       3.822472 3.756056 0          0          301  1      \n",
       "378 4.500000       3.822472 3.756056 0          0          301  1      \n",
       "379 4.700000       3.900000 4.200000 0          0          301  1      \n",
       "383 4.000000       4.000000 4.000000 0          0          301  0      \n",
       "385 4.700000       3.822472 3.756056 0          0          301  1      \n",
       "386 3.700000       3.800000 3.600000 0          0          301  1      \n",
       "    admission hostel_BOTH hostel_ONE decision\n",
       "1   1         1           0          1       \n",
       "5   1         0           0          1       \n",
       "7   0         1           0          0       \n",
       "8   1         1           0          1       \n",
       "16  0         1           0          0       \n",
       "18  0         1           0          0       \n",
       "19  0         1           0          0       \n",
       "23  0         0           0          0       \n",
       "25  0         1           0          0       \n",
       "26  1         1           0          0       \n",
       "34  1         1           0          1       \n",
       "36  0         1           0          0       \n",
       "37  1         1           0          1       \n",
       "41  1         1           0          1       \n",
       "43  1         1           0          1       \n",
       "44  0         1           0          0       \n",
       "52  0         1           0          0       \n",
       "54  0         1           0          0       \n",
       "55  0         1           0          0       \n",
       "59  0         0           0          0       \n",
       "61  0         0           0          0       \n",
       "62  0         0           0          0       \n",
       "70  1         1           0          0       \n",
       "72  1         0           0          1       \n",
       "73  1         0           0          0       \n",
       "77  1         0           0          0       \n",
       "79  0         1           0          1       \n",
       "80  1         1           0          0       \n",
       "88  1         1           0          1       \n",
       "90  0         1           0          0       \n",
       "⋮   ⋮         ⋮           ⋮          ⋮       \n",
       "304 1         1           0          1       \n",
       "306 1         1           0          1       \n",
       "307 1         1           0          1       \n",
       "311 1         1           0          0       \n",
       "313 0         0           0          0       \n",
       "314 1         1           0          1       \n",
       "322 0         1           0          0       \n",
       "324 0         1           0          0       \n",
       "325 0         0           0          0       \n",
       "329 0         1           0          0       \n",
       "331 0         1           0          0       \n",
       "332 0         0           0          0       \n",
       "340 1         1           0          1       \n",
       "342 0         0           0          0       \n",
       "343 0         1           0          0       \n",
       "347 1         1           0          1       \n",
       "349 1         1           0          1       \n",
       "350 1         1           0          1       \n",
       "358 0         0           0          0       \n",
       "360 1         0           0          0       \n",
       "361 1         1           0          1       \n",
       "365 0         1           0          0       \n",
       "367 0         1           0          0       \n",
       "368 0         1           0          0       \n",
       "376 0         0           0          0       \n",
       "378 0         1           0          0       \n",
       "379 0         1           0          0       \n",
       "383 1         1           0          0       \n",
       "385 0         1           0          0       \n",
       "386 0         1           0          0       "
      ]
     },
     "metadata": {},
     "output_type": "display_data"
    },
    {
     "data": {
      "text/plain": [
       "   \n",
       "     0  1\n",
       "  0 66  1\n",
       "  1 18 45"
      ]
     },
     "metadata": {},
     "output_type": "display_data"
    }
   ],
   "source": [
    "# Predicting values on test set\n",
    "test$decision <- predict(classtree, test, type=\"class\")\n",
    "View(test)\n",
    "table(test$admission, test$decision)\n"
   ]
  },
  {
   "cell_type": "code",
   "execution_count": 29,
   "id": "b34b7838",
   "metadata": {},
   "outputs": [
    {
     "data": {
      "text/html": [
       "0.853846153846154"
      ],
      "text/latex": [
       "0.853846153846154"
      ],
      "text/markdown": [
       "0.853846153846154"
      ],
      "text/plain": [
       "[1] 0.8538462"
      ]
     },
     "metadata": {},
     "output_type": "display_data"
    }
   ],
   "source": [
    "111/130"
   ]
  },
  {
   "cell_type": "markdown",
   "id": "30d11d34",
   "metadata": {},
   "source": [
    "# Bagging"
   ]
  },
  {
   "cell_type": "code",
   "execution_count": 30,
   "id": "f667398f",
   "metadata": {},
   "outputs": [
    {
     "name": "stderr",
     "output_type": "stream",
     "text": [
      "randomForest 4.7-1.1\n",
      "\n",
      "Type rfNews() to see new features/changes/bug fixes.\n",
      "\n"
     ]
    },
    {
     "data": {
      "text/plain": [
       "   \n",
       "     0  1\n",
       "  0 62  5\n",
       "  1 13 50"
      ]
     },
     "metadata": {},
     "output_type": "display_data"
    }
   ],
   "source": [
    "library(randomForest)\n",
    "train$admission <- as.factor(train$admission)\n",
    "bagging <- randomForest(admission~.-college_code, method=\"class\", data=train, mtry=16)\n",
    "test$bagging <- predict(bagging, test, type=\"response\")\n",
    "table(test$admission, test$bagging) "
   ]
  },
  {
   "cell_type": "code",
   "execution_count": 31,
   "id": "54900d6b",
   "metadata": {},
   "outputs": [
    {
     "data": {
      "text/html": [
       "0.861538461538462"
      ],
      "text/latex": [
       "0.861538461538462"
      ],
      "text/markdown": [
       "0.861538461538462"
      ],
      "text/plain": [
       "[1] 0.8615385"
      ]
     },
     "metadata": {},
     "output_type": "display_data"
    }
   ],
   "source": [
    "112/130"
   ]
  },
  {
   "cell_type": "markdown",
   "id": "70029e98",
   "metadata": {},
   "source": [
    "# Random Forest"
   ]
  },
  {
   "cell_type": "code",
   "execution_count": 33,
   "id": "36e25cfc",
   "metadata": {},
   "outputs": [
    {
     "data": {
      "text/plain": [
       "   \n",
       "     0  1\n",
       "  0 62  5\n",
       "  1 10 53"
      ]
     },
     "metadata": {},
     "output_type": "display_data"
    }
   ],
   "source": [
    "randomforest <- randomForest(admission~., data=train, ntree=500)\n",
    "test$randomforest <- predict(randomforest, test, type=\"class\")\n",
    "table(test$admission, test$randomforest)"
   ]
  },
  {
   "cell_type": "code",
   "execution_count": 34,
   "id": "89c9b1a0",
   "metadata": {},
   "outputs": [
    {
     "data": {
      "text/html": [
       "0.884615384615385"
      ],
      "text/latex": [
       "0.884615384615385"
      ],
      "text/markdown": [
       "0.884615384615385"
      ],
      "text/plain": [
       "[1] 0.8846154"
      ]
     },
     "metadata": {},
     "output_type": "display_data"
    }
   ],
   "source": [
    "115/130"
   ]
  },
  {
   "cell_type": "markdown",
   "id": "858822f7",
   "metadata": {},
   "source": [
    "# Gradient Boost"
   ]
  },
  {
   "cell_type": "code",
   "execution_count": 35,
   "id": "abaaf814",
   "metadata": {
    "scrolled": true
   },
   "outputs": [
    {
     "name": "stderr",
     "output_type": "stream",
     "text": [
      "Loaded gbm 2.1.8.1\n",
      "\n",
      "Warning message:\n",
      "\"Setting `distribution = \"multinomial\"` is ill-advised as it is currently broken. It exists only for backwards compatibility. Use at your own risk.\"\n"
     ]
    },
    {
     "data": {
      "text/plain": [
       "   \n",
       "     0  1\n",
       "  0 64  3\n",
       "  1 11 52"
      ]
     },
     "metadata": {},
     "output_type": "display_data"
    }
   ],
   "source": [
    "library(gbm)\n",
    "set.seed(0)\n",
    "test$admission <- as.factor(test$admission)\n",
    "boosting <- gbm(admission~., data=train, distribution=\"multinomial\", n.trees=1000, interaction.depth=4, shrinkage=0.2, verbose = F)\n",
    "test$pregrad <- predict(boosting, test, n.trees=1000, type=\"response\")\n",
    "class_names = colnames(test$pregrad)[apply(test$pregrad, 1, which.max)]\n",
    "table(test$admission, as.factor(class_names))"
   ]
  },
  {
   "cell_type": "code",
   "execution_count": 36,
   "id": "ef181555",
   "metadata": {},
   "outputs": [
    {
     "data": {
      "text/html": [
       "0.892307692307692"
      ],
      "text/latex": [
       "0.892307692307692"
      ],
      "text/markdown": [
       "0.892307692307692"
      ],
      "text/plain": [
       "[1] 0.8923077"
      ]
     },
     "metadata": {},
     "output_type": "display_data"
    }
   ],
   "source": [
    "116/130"
   ]
  },
  {
   "cell_type": "markdown",
   "id": "e651e446",
   "metadata": {},
   "source": [
    "# Adaptive Boost"
   ]
  },
  {
   "cell_type": "code",
   "execution_count": 37,
   "id": "5d7cdf5e",
   "metadata": {},
   "outputs": [
    {
     "name": "stderr",
     "output_type": "stream",
     "text": [
      "Loading required package: caret\n",
      "\n",
      "Loading required package: ggplot2\n",
      "\n",
      "\n",
      "Attaching package: 'ggplot2'\n",
      "\n",
      "\n",
      "The following object is masked from 'package:randomForest':\n",
      "\n",
      "    margin\n",
      "\n",
      "\n",
      "Loading required package: lattice\n",
      "\n",
      "Loading required package: foreach\n",
      "\n",
      "Loading required package: doParallel\n",
      "\n",
      "Loading required package: iterators\n",
      "\n",
      "Loading required package: parallel\n",
      "\n"
     ]
    },
    {
     "data": {
      "text/plain": [
       "   \n",
       "     0  1\n",
       "  0 65  9\n",
       "  1  2 54"
      ]
     },
     "metadata": {},
     "output_type": "display_data"
    }
   ],
   "source": [
    "library(adabag)\n",
    "adaboost <- boosting(admission~.-college_code, data=train, boos=TRUE)\n",
    "predada <- predict(adaboost, test)\n",
    "table(predada$class, test$admission)"
   ]
  },
  {
   "cell_type": "code",
   "execution_count": 38,
   "id": "00687b04",
   "metadata": {},
   "outputs": [
    {
     "data": {
      "text/html": [
       "0.915384615384615"
      ],
      "text/latex": [
       "0.915384615384615"
      ],
      "text/markdown": [
       "0.915384615384615"
      ],
      "text/plain": [
       "[1] 0.9153846"
      ]
     },
     "metadata": {},
     "output_type": "display_data"
    }
   ],
   "source": [
    "119/130"
   ]
  },
  {
   "cell_type": "code",
   "execution_count": 39,
   "id": "1c5097c9",
   "metadata": {},
   "outputs": [
    {
     "data": {
      "image/png": "[encoded data removed]",
      "text/plain": [
       "plot without title"
      ]
     },
     "metadata": {
      "image/png": {
       "height": 420,
       "width": 420
      }
     },
     "output_type": "display_data"
    }
   ],
   "source": [
    "t1 <- adaboost$trees[[5]]\n",
    "plot(t1)\n",
    "text(t1, pretty=100)"
   ]
  },
  {
   "cell_type": "markdown",
   "id": "5a1bbba9",
   "metadata": {},
   "source": [
    "# XG BOOST"
   ]
  },
  {
   "cell_type": "code",
   "execution_count": 14,
   "id": "3e5b7bd3",
   "metadata": {},
   "outputs": [
    {
     "name": "stdout",
     "output_type": "stream",
     "text": [
      "[1]\ttrain-mlogloss:0.466872 \n",
      "[2]\ttrain-mlogloss:0.345553 \n",
      "[3]\ttrain-mlogloss:0.261560 \n",
      "[4]\ttrain-mlogloss:0.202363 \n",
      "[5]\ttrain-mlogloss:0.158981 \n",
      "[6]\ttrain-mlogloss:0.126879 \n",
      "[7]\ttrain-mlogloss:0.102704 \n",
      "[8]\ttrain-mlogloss:0.084225 \n",
      "[9]\ttrain-mlogloss:0.071468 \n",
      "[10]\ttrain-mlogloss:0.060947 \n",
      "[11]\ttrain-mlogloss:0.053008 \n",
      "[12]\ttrain-mlogloss:0.046497 \n",
      "[13]\ttrain-mlogloss:0.041808 \n",
      "[14]\ttrain-mlogloss:0.037153 \n",
      "[15]\ttrain-mlogloss:0.033441 \n",
      "[16]\ttrain-mlogloss:0.030745 \n",
      "[17]\ttrain-mlogloss:0.027983 \n",
      "[18]\ttrain-mlogloss:0.026119 \n",
      "[19]\ttrain-mlogloss:0.024188 \n",
      "[20]\ttrain-mlogloss:0.022708 \n",
      "[21]\ttrain-mlogloss:0.021219 \n",
      "[22]\ttrain-mlogloss:0.020226 \n",
      "[23]\ttrain-mlogloss:0.019427 \n",
      "[24]\ttrain-mlogloss:0.018568 \n",
      "[25]\ttrain-mlogloss:0.017915 \n",
      "[26]\ttrain-mlogloss:0.017290 \n",
      "[27]\ttrain-mlogloss:0.016841 \n",
      "[28]\ttrain-mlogloss:0.016316 \n",
      "[29]\ttrain-mlogloss:0.015857 \n",
      "[30]\ttrain-mlogloss:0.015403 \n",
      "[31]\ttrain-mlogloss:0.014942 \n",
      "[32]\ttrain-mlogloss:0.014532 \n",
      "[33]\ttrain-mlogloss:0.014187 \n",
      "[34]\ttrain-mlogloss:0.013799 \n",
      "[35]\ttrain-mlogloss:0.013534 \n",
      "[36]\ttrain-mlogloss:0.013214 \n",
      "[37]\ttrain-mlogloss:0.012973 \n",
      "[38]\ttrain-mlogloss:0.012745 \n",
      "[39]\ttrain-mlogloss:0.012479 \n",
      "[40]\ttrain-mlogloss:0.012236 \n",
      "[41]\ttrain-mlogloss:0.012023 \n",
      "[42]\ttrain-mlogloss:0.011841 \n",
      "[43]\ttrain-mlogloss:0.011672 \n",
      "[44]\ttrain-mlogloss:0.011522 \n",
      "[45]\ttrain-mlogloss:0.011370 \n",
      "[46]\ttrain-mlogloss:0.011229 \n",
      "[47]\ttrain-mlogloss:0.011089 \n",
      "[48]\ttrain-mlogloss:0.010973 \n",
      "[49]\ttrain-mlogloss:0.010796 \n",
      "[50]\ttrain-mlogloss:0.010578 \n"
     ]
    },
    {
     "data": {
      "text/plain": [
       "       xgpred\n",
       "testY    0  1\n",
       "  FALSE 66  1\n",
       "  TRUE  13 50"
      ]
     },
     "metadata": {},
     "output_type": "display_data"
    }
   ],
   "source": [
    "library(xgboost)\n",
    "trainY <- train$admission==\"1\"\n",
    "trainX <- model.matrix(admission~. -college_code, data=train)\n",
    "trainX <- trainX[,-16]\n",
    "\n",
    "testY <- test$admission==\"1\"\n",
    "testX <- model.matrix(admission~. -college_code, data=test)\n",
    "testX <- testX[,-16]\n",
    "\n",
    "Xmatrix_train <- xgb.DMatrix(data=trainX, label=trainY)\n",
    "Xmatrix_test <- xgb.DMatrix(data=testX, label=testY)\n",
    "Xgboosting <- xgboost(data=Xmatrix_train, nround=50, objective =\"multi:softmax\", eta=0.3, num_class=2, max_depth=100)\n",
    "xgpred <- predict(Xgboosting, Xmatrix_test)\n",
    "table(testY, xgpred) "
   ]
  },
  {
   "cell_type": "code",
   "execution_count": 15,
   "id": "bced21d3",
   "metadata": {},
   "outputs": [
    {
     "data": {
      "text/html": [
       "0.9"
      ],
      "text/latex": [
       "0.9"
      ],
      "text/markdown": [
       "0.9"
      ],
      "text/plain": [
       "[1] 0.9"
      ]
     },
     "metadata": {},
     "output_type": "display_data"
    }
   ],
   "source": [
    "117/130"
   ]
  },
  {
   "cell_type": "markdown",
   "id": "b744f84a",
   "metadata": {},
   "source": [
    "# Support Vector Machines"
   ]
  },
  {
   "cell_type": "markdown",
   "id": "6d3cfb27",
   "metadata": {},
   "source": [
    "### 1. Linear Kernel"
   ]
  },
  {
   "cell_type": "code",
   "execution_count": 47,
   "id": "42e6516b",
   "metadata": {},
   "outputs": [
    {
     "data": {
      "text/html": [
       "<style>\n",
       ".list-inline {list-style: none; margin:0; padding: 0}\n",
       ".list-inline>li {display: inline-block}\n",
       ".list-inline>li:not(:last-child)::after {content: \"\\00b7\"; padding: 0 .5ex}\n",
       "</style>\n",
       "<ol class=list-inline><li>1</li><li>3</li><li>41</li><li>46</li><li>61</li><li>63</li><li>71</li><li>75</li><li>76</li><li>79</li><li>88</li><li>91</li><li>96</li><li>101</li><li>131</li><li>138</li><li>144</li><li>149</li><li>159</li><li>160</li><li>171</li><li>179</li><li>216</li><li>223</li><li>229</li><li>237</li><li>240</li><li>241</li><li>249</li><li>251</li><li>252</li><li>2</li><li>4</li><li>9</li><li>13</li><li>23</li><li>25</li><li>48</li><li>60</li><li>77</li><li>87</li><li>89</li><li>100</li><li>111</li><li>130</li><li>136</li><li>139</li><li>143</li><li>148</li><li>150</li><li>156</li><li>165</li><li>173</li><li>176</li><li>184</li><li>185</li><li>187</li><li>190</li><li>194</li><li>195</li><li>197</li><li>199</li><li>206</li><li>220</li><li>231</li><li>246</li><li>255</li></ol>\n"
      ],
      "text/latex": [
       "\\begin{enumerate*}\n",
       "\\item 1\n",
       "\\item 3\n",
       "\\item 41\n",
       "\\item 46\n",
       "\\item 61\n",
       "\\item 63\n",
       "\\item 71\n",
       "\\item 75\n",
       "\\item 76\n",
       "\\item 79\n",
       "\\item 88\n",
       "\\item 91\n",
       "\\item 96\n",
       "\\item 101\n",
       "\\item 131\n",
       "\\item 138\n",
       "\\item 144\n",
       "\\item 149\n",
       "\\item 159\n",
       "\\item 160\n",
       "\\item 171\n",
       "\\item 179\n",
       "\\item 216\n",
       "\\item 223\n",
       "\\item 229\n",
       "\\item 237\n",
       "\\item 240\n",
       "\\item 241\n",
       "\\item 249\n",
       "\\item 251\n",
       "\\item 252\n",
       "\\item 2\n",
       "\\item 4\n",
       "\\item 9\n",
       "\\item 13\n",
       "\\item 23\n",
       "\\item 25\n",
       "\\item 48\n",
       "\\item 60\n",
       "\\item 77\n",
       "\\item 87\n",
       "\\item 89\n",
       "\\item 100\n",
       "\\item 111\n",
       "\\item 130\n",
       "\\item 136\n",
       "\\item 139\n",
       "\\item 143\n",
       "\\item 148\n",
       "\\item 150\n",
       "\\item 156\n",
       "\\item 165\n",
       "\\item 173\n",
       "\\item 176\n",
       "\\item 184\n",
       "\\item 185\n",
       "\\item 187\n",
       "\\item 190\n",
       "\\item 194\n",
       "\\item 195\n",
       "\\item 197\n",
       "\\item 199\n",
       "\\item 206\n",
       "\\item 220\n",
       "\\item 231\n",
       "\\item 246\n",
       "\\item 255\n",
       "\\end{enumerate*}\n"
      ],
      "text/markdown": [
       "1. 1\n",
       "2. 3\n",
       "3. 41\n",
       "4. 46\n",
       "5. 61\n",
       "6. 63\n",
       "7. 71\n",
       "8. 75\n",
       "9. 76\n",
       "10. 79\n",
       "11. 88\n",
       "12. 91\n",
       "13. 96\n",
       "14. 101\n",
       "15. 131\n",
       "16. 138\n",
       "17. 144\n",
       "18. 149\n",
       "19. 159\n",
       "20. 160\n",
       "21. 171\n",
       "22. 179\n",
       "23. 216\n",
       "24. 223\n",
       "25. 229\n",
       "26. 237\n",
       "27. 240\n",
       "28. 241\n",
       "29. 249\n",
       "30. 251\n",
       "31. 252\n",
       "32. 2\n",
       "33. 4\n",
       "34. 9\n",
       "35. 13\n",
       "36. 23\n",
       "37. 25\n",
       "38. 48\n",
       "39. 60\n",
       "40. 77\n",
       "41. 87\n",
       "42. 89\n",
       "43. 100\n",
       "44. 111\n",
       "45. 130\n",
       "46. 136\n",
       "47. 139\n",
       "48. 143\n",
       "49. 148\n",
       "50. 150\n",
       "51. 156\n",
       "52. 165\n",
       "53. 173\n",
       "54. 176\n",
       "55. 184\n",
       "56. 185\n",
       "57. 187\n",
       "58. 190\n",
       "59. 194\n",
       "60. 195\n",
       "61. 197\n",
       "62. 199\n",
       "63. 206\n",
       "64. 220\n",
       "65. 231\n",
       "66. 246\n",
       "67. 255\n",
       "\n",
       "\n"
      ],
      "text/plain": [
       " [1]   1   3  41  46  61  63  71  75  76  79  88  91  96 101 131 138 144 149 159\n",
       "[20] 160 171 179 216 223 229 237 240 241 249 251 252   2   4   9  13  23  25  48\n",
       "[39]  60  77  87  89 100 111 130 136 139 143 148 150 156 165 173 176 184 185 187\n",
       "[58] 190 194 195 197 199 206 220 231 246 255"
      ]
     },
     "metadata": {},
     "output_type": "display_data"
    }
   ],
   "source": [
    "library(e1071)\n",
    "svmfit = svm (admission~.-college_code, data=train , kernel = \"linear\", cost =1 ,scale = TRUE)\n",
    " \n",
    "## To check the support vectors\n",
    "svmfit$index"
   ]
  },
  {
   "cell_type": "code",
   "execution_count": 48,
   "id": "1c20c8b3",
   "metadata": {},
   "outputs": [
    {
     "data": {
      "text/plain": [
       "\n",
       "Call:\n",
       "best.tune(METHOD = svm, train.x = admission ~ ., data = train, ranges = list(cost = c(0.001, \n",
       "    0.01, 0.1, 1, 10, 100)), kernel = \"linear\")\n",
       "\n",
       "\n",
       "Parameters:\n",
       "   SVM-Type:  C-classification \n",
       " SVM-Kernel:  linear \n",
       "       cost:  0.1 \n",
       "\n",
       "Number of Support Vectors:  99\n",
       "\n",
       " ( 48 51 )\n",
       "\n",
       "\n",
       "Number of Classes:  2 \n",
       "\n",
       "Levels: \n",
       " 0 1\n",
       "\n",
       "\n"
      ]
     },
     "metadata": {},
     "output_type": "display_data"
    }
   ],
   "source": [
    "## Finding best value of C / Tuning the hyperparameter\n",
    "set.seed (0)\n",
    "tune.out = tune(svm, admission~.,data=train ,kernel=\"linear\", ranges =list(cost=c(0.001 , 0.01, 0.1, 1,10,100)))\n",
    "bestmod = tune.out$best.model\n",
    "summary (bestmod)"
   ]
  },
  {
   "cell_type": "code",
   "execution_count": 49,
   "id": "e99409a6",
   "metadata": {},
   "outputs": [
    {
     "data": {
      "text/plain": [
       "       truth\n",
       "predict  0  1\n",
       "      0 65 12\n",
       "      1  2 51"
      ]
     },
     "metadata": {},
     "output_type": "display_data"
    }
   ],
   "source": [
    "ypredL=predict (bestmod ,test)\n",
    "table(predict=ypredL , truth=test$admission) "
   ]
  },
  {
   "cell_type": "code",
   "execution_count": 50,
   "id": "f9b5ea90",
   "metadata": {},
   "outputs": [
    {
     "data": {
      "text/html": [
       "0.892307692307692"
      ],
      "text/latex": [
       "0.892307692307692"
      ],
      "text/markdown": [
       "0.892307692307692"
      ],
      "text/plain": [
       "[1] 0.8923077"
      ]
     },
     "metadata": {},
     "output_type": "display_data"
    }
   ],
   "source": [
    "116/130"
   ]
  },
  {
   "cell_type": "markdown",
   "id": "8e01f325",
   "metadata": {},
   "source": [
    "### 2. Polynomial Kernel"
   ]
  },
  {
   "cell_type": "code",
   "execution_count": 51,
   "id": "773b093f",
   "metadata": {},
   "outputs": [
    {
     "data": {
      "text/plain": [
       "\n",
       "Call:\n",
       "best.tune(METHOD = svm, train.x = admission ~ ., data = train, ranges = list(cost = c(0.001, \n",
       "    0.1, 1, 5, 10), degree = c(0.5, 1, 2, 3, 5, 10)), cross = 4, \n",
       "    kernel = \"polynomial\")\n",
       "\n",
       "\n",
       "Parameters:\n",
       "   SVM-Type:  C-classification \n",
       " SVM-Kernel:  polynomial \n",
       "       cost:  5 \n",
       "     degree:  1 \n",
       "     coef.0:  0 \n",
       "\n",
       "Number of Support Vectors:  79\n",
       "\n",
       " ( 39 40 )\n",
       "\n",
       "\n",
       "Number of Classes:  2 \n",
       "\n",
       "Levels: \n",
       " 0 1\n",
       "\n",
       "4-fold cross-validation on training data:\n",
       "\n",
       "Total Accuracy: 91.05058 \n",
       "Single Accuracies:\n",
       " 84.375 95.3125 92.1875 92.30769 \n",
       "\n",
       "\n"
      ]
     },
     "metadata": {},
     "output_type": "display_data"
    }
   ],
   "source": [
    "svmfitP = svm(admission~.-college_code, data=train , kernel =\"polynomial\", cost=1, degree=2)\n",
    "# Hyperparameter Tuning\n",
    "tune.outP=tune(svm ,admission~.,data=train, cross = 4, kernel=\"polynomial\", ranges =list(cost=c(0.001,0.1, 1,5,10),degree=c(0.5,1,2,3,5,10) ))\n",
    "bestmodP =tune.outP$best.model\n",
    "summary (bestmodP)"
   ]
  },
  {
   "cell_type": "code",
   "execution_count": 52,
   "id": "7423597f",
   "metadata": {},
   "outputs": [
    {
     "data": {
      "text/plain": [
       "       truth\n",
       "predict  0  1\n",
       "      0 65 13\n",
       "      1  2 50"
      ]
     },
     "metadata": {},
     "output_type": "display_data"
    }
   ],
   "source": [
    "ypredP = predict (bestmodP,test)\n",
    "table(predict = ypredP, truth = test$admission)"
   ]
  },
  {
   "cell_type": "code",
   "execution_count": 53,
   "id": "3402d853",
   "metadata": {},
   "outputs": [
    {
     "data": {
      "text/html": [
       "0.884615384615385"
      ],
      "text/latex": [
       "0.884615384615385"
      ],
      "text/markdown": [
       "0.884615384615385"
      ],
      "text/plain": [
       "[1] 0.8846154"
      ]
     },
     "metadata": {},
     "output_type": "display_data"
    }
   ],
   "source": [
    "115/130"
   ]
  },
  {
   "cell_type": "markdown",
   "id": "063c3b77",
   "metadata": {},
   "source": [
    "Since the degree obtained from Polynomial Kernel is 1, the Kernel is Linear, so we consider the accuracy of the Linear kernel and we won't be further moving towards the other kernels"
   ]
  },
  {
   "cell_type": "markdown",
   "id": "7ca1f781",
   "metadata": {},
   "source": [
    "# Conclusion"
   ]
  },
  {
   "cell_type": "markdown",
   "id": "2fc1a1f3",
   "metadata": {},
   "source": [
    "The Adaptive Boost model provides the best accuracy of 91.53% on the test set and its predicted values are best suited for finding out whether a student will take admission in a particular college or not"
   ]
  }
 ],
 "metadata": {
  "kernelspec": {
   "display_name": "R",
   "language": "R",
   "name": "ir"
  },
  "language_info": {
   "codemirror_mode": "r",
   "file_extension": ".r",
   "mimetype": "text/x-r-source",
   "name": "R",
   "pygments_lexer": "r",
   "version": "4.3.2"
  }
 },
 "nbformat": 4,
 "nbformat_minor": 5
}
